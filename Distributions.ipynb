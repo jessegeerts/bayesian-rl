{
 "cells": [
  {
   "cell_type": "code",
   "execution_count": null,
   "metadata": {},
   "outputs": [],
   "source": [
    "import numpy as np\n",
    "import matplotlib.pyplot as plt\n",
    "from scipy.special import gamma, factorial\n",
    "%matplotlib notebook"
   ]
  },
  {
   "cell_type": "code",
   "execution_count": null,
   "metadata": {},
   "outputs": [],
   "source": [
    "def eval_beta(mu, a=.1, b=.1):\n",
    "    coefficient = gamma(a+b) / (gamma(a) + gamma(b))\n",
    "    return mu**(a-1) * (1-mu)**(b-1) * coefficient"
   ]
  },
  {
   "cell_type": "code",
   "execution_count": null,
   "metadata": {},
   "outputs": [],
   "source": []
  },
  {
   "cell_type": "code",
   "execution_count": null,
   "metadata": {},
   "outputs": [],
   "source": [
    "mus = np.linspace(0, 1, 100)\n",
    "\n",
    "def plot_beta_distribution(a, b):\n",
    "    plt.plot(mus, eval_beta(mus, a=a, b=b))\n",
    "    plt.title('a={}, b={}'.format(a,b))\n"
   ]
  },
  {
   "cell_type": "code",
   "execution_count": null,
   "metadata": {},
   "outputs": [],
   "source": [
    "fig, axs = plt.subplots(2,2)\n",
    "plt.sca(axs[0,0])\n",
    "plot_beta_distribution(.1, .1)\n",
    "\n",
    "plt.sca(axs[0,1])\n",
    "plot_beta_distribution(1, 1)\n",
    "\n",
    "plt.sca(axs[1,0])\n",
    "plot_beta_distribution(2, 3)\n",
    "\n",
    "plt.sca(axs[1,1])\n",
    "plot_beta_distribution(8, 4)\n",
    "\n",
    "plt.tight_layout()\n",
    "\n"
   ]
  },
  {
   "cell_type": "code",
   "execution_count": null,
   "metadata": {},
   "outputs": [],
   "source": [
    "def binom_likelihood_function(m, mu, N):\n",
    "    n_over_m = factorial(N) / (factorial(N-m) * factorial(m))\n",
    "    return mu**m * (1-mu)**(N-m) * n_over_m"
   ]
  },
  {
   "cell_type": "code",
   "execution_count": null,
   "metadata": {},
   "outputs": [],
   "source": [
    "ems = np.arange(10)\n",
    "\n",
    "plt.bar(ems, binom_likelihood_function(ems, .25, 10))\n",
    "plt.title('The Binomial distribution')"
   ]
  },
  {
   "cell_type": "code",
   "execution_count": null,
   "metadata": {},
   "outputs": [],
   "source": [
    "# Plot the likelihood function after seeing one observation \n",
    "fig, axs = plt.subplots(1,3, figsize=(9, 4))\n",
    "\n",
    "a = 2\n",
    "b = 2\n",
    "\n",
    "plt.sca(axs[0])\n",
    "plot_beta_distribution(a, b)\n",
    "plt.title('Prior')\n",
    "\n",
    "plt.sca(axs[1])\n",
    "plt.plot(mus, binom_likelihood_function(1, mus, 1))\n",
    "plt.ylim([0,1.5])\n",
    "plt.title('Likelihood function')\n",
    "a += 1\n",
    "\n",
    "plt.sca(axs[2])\n",
    "plot_beta_distribution(a, b)\n",
    "plt.title('Posterior')\n",
    "\n"
   ]
  },
  {
   "cell_type": "code",
   "execution_count": null,
   "metadata": {},
   "outputs": [],
   "source": []
  },
  {
   "cell_type": "markdown",
   "metadata": {},
   "source": [
    "# Bayesian Q learning using beta distributions as conjugate priors "
   ]
  },
  {
   "cell_type": "code",
   "execution_count": null,
   "metadata": {},
   "outputs": [],
   "source": [
    "from scipy.stats import beta"
   ]
  },
  {
   "cell_type": "code",
   "execution_count": null,
   "metadata": {},
   "outputs": [],
   "source": [
    "predecessor = beta(2, 2)"
   ]
  },
  {
   "cell_type": "code",
   "execution_count": null,
   "metadata": {},
   "outputs": [],
   "source": [
    "xs = np.linspace(0, 1, 100)\n",
    "\n",
    "plt.plot(xs, predecessor.pdf(xs))"
   ]
  },
  {
   "cell_type": "code",
   "execution_count": null,
   "metadata": {},
   "outputs": [],
   "source": [
    "successor_1 = beta(6, 3)\n",
    "successor_2 = beta(3, 6)\n",
    "\n",
    "plt.plot(xs, successor_1.pdf(xs))\n",
    "plt.plot(xs, successor_2.pdf(xs))"
   ]
  },
  {
   "cell_type": "code",
   "execution_count": null,
   "metadata": {},
   "outputs": [],
   "source": [
    "# calculate posterior mean and variance \n",
    "posterior1_mean = (predecessor.args[0] + successor_1.mean() ) / (predecessor.args[0] + predecessor.args[1] + 1)\n",
    "\n",
    "pre_a = predecessor.args[0]\n",
    "pre_b = predecessor.args[1]\n",
    "posterior1_var = 1/ ((pre_a+pre_b+2) * (pre_a+pre_b+1)) * (pre_a**2 + pre_a + successor_1.moment(2) + (2 * pre_a+1) * successor_1.moment(1) ) - posterior1_mean**2"
   ]
  },
  {
   "cell_type": "code",
   "execution_count": null,
   "metadata": {},
   "outputs": [],
   "source": [
    "# get a and b from mean and variance \n",
    "\n",
    "posterior1_a = ((1-posterior1_mean) / posterior1_var - 1 / posterior1_mean) * posterior1_mean**2 \n",
    "posterior1_b = posterior1_a * (1/ posterior1_mean - 1)"
   ]
  },
  {
   "cell_type": "code",
   "execution_count": null,
   "metadata": {},
   "outputs": [],
   "source": [
    "# Now the same for the other successor state\n"
   ]
  },
  {
   "cell_type": "code",
   "execution_count": null,
   "metadata": {},
   "outputs": [],
   "source": [
    "# calculate posterior mean and variance \n",
    "posterior2_mean = (predecessor.args[0] + successor_2.mean() ) / (predecessor.args[0] + predecessor.args[1] + 1)\n",
    "\n",
    "pre_a = predecessor.args[0]\n",
    "pre_b = predecessor.args[1]\n",
    "posterior2_var = 1/ ((pre_a+pre_b+2) * (pre_a+pre_b+1)) * (pre_a**2 + pre_a + successor_2.moment(2) + (2 * pre_a+1) * successor_2.moment(1) ) - posterior2_mean**2"
   ]
  },
  {
   "cell_type": "code",
   "execution_count": null,
   "metadata": {},
   "outputs": [],
   "source": [
    "# get a and b from mean and variance \n",
    "\n",
    "posterior2_a = ((1-posterior2_mean) / posterior2_var - 1 / posterior2_mean) * posterior2_mean**2 \n",
    "posterior2_b = posterior2_a * (1/ posterior2_mean - 1)"
   ]
  },
  {
   "cell_type": "code",
   "execution_count": null,
   "metadata": {},
   "outputs": [],
   "source": [
    "posterior_1 = beta(posterior1_a, posterior1_b)\n",
    "posterior_2 = beta(posterior2_a, posterior2_b)\n",
    "\n",
    "plt.plot(xs, posterior_1.pdf(xs))\n",
    "plt.plot(xs, posterior_2.pdf(xs))"
   ]
  },
  {
   "cell_type": "code",
   "execution_count": null,
   "metadata": {},
   "outputs": [],
   "source": []
  },
  {
   "cell_type": "markdown",
   "metadata": {},
   "source": [
    "# The normal-gamma distribution: a conjugate prior for gaussians with unknown mean and variance"
   ]
  },
  {
   "cell_type": "code",
   "execution_count": null,
   "metadata": {},
   "outputs": [],
   "source": [
    "import rpy2.robjects as robjects"
   ]
  },
  {
   "cell_type": "code",
   "execution_count": null,
   "metadata": {},
   "outputs": [],
   "source": [
    "robjects."
   ]
  },
  {
   "cell_type": "code",
   "execution_count": null,
   "metadata": {},
   "outputs": [],
   "source": []
  },
  {
   "cell_type": "code",
   "execution_count": null,
   "metadata": {},
   "outputs": [],
   "source": []
  },
  {
   "cell_type": "code",
   "execution_count": null,
   "metadata": {},
   "outputs": [],
   "source": []
  },
  {
   "cell_type": "code",
   "execution_count": null,
   "metadata": {},
   "outputs": [],
   "source": []
  },
  {
   "cell_type": "markdown",
   "metadata": {},
   "source": []
  },
  {
   "cell_type": "code",
   "execution_count": null,
   "metadata": {},
   "outputs": [],
   "source": []
  },
  {
   "cell_type": "code",
   "execution_count": null,
   "metadata": {},
   "outputs": [],
   "source": []
  }
 ],
 "metadata": {
  "kernelspec": {
   "display_name": "Python 3",
   "language": "python",
   "name": "python3"
  },
  "language_info": {
   "codemirror_mode": {
    "name": "ipython",
    "version": 3
   },
   "file_extension": ".py",
   "mimetype": "text/x-python",
   "name": "python",
   "nbconvert_exporter": "python",
   "pygments_lexer": "ipython3",
   "version": "3.6.8"
  }
 },
 "nbformat": 4,
 "nbformat_minor": 2
}
