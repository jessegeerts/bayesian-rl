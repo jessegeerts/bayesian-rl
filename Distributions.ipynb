{
 "cells": [
  {
   "cell_type": "code",
   "execution_count": null,
   "metadata": {},
   "outputs": [],
   "source": [
    "import numpy as np\n",
    "import matplotlib.pyplot as plt\n",
    "from scipy.special import gamma, factorial\n",
    "%matplotlib notebook"
   ]
  },
  {
   "cell_type": "code",
   "execution_count": null,
   "metadata": {},
   "outputs": [],
   "source": [
    "def eval_beta(mu, a=.1, b=.1):\n",
    "    coefficient = gamma(a+b) / (gamma(a) + gamma(b))\n",
    "    return mu**(a-1) * (1-mu)**(b-1) * coefficient"
   ]
  },
  {
   "cell_type": "code",
   "execution_count": null,
   "metadata": {},
   "outputs": [],
   "source": []
  },
  {
   "cell_type": "code",
   "execution_count": null,
   "metadata": {},
   "outputs": [],
   "source": [
    "mus = np.linspace(0, 1, 100)\n",
    "\n",
    "def plot_beta_distribution(a, b):\n",
    "    plt.plot(mus, eval_beta(mus, a=a, b=b))\n",
    "    plt.title('a={}, b={}'.format(a,b))\n"
   ]
  },
  {
   "cell_type": "code",
   "execution_count": null,
   "metadata": {},
   "outputs": [],
   "source": [
    "fig, axs = plt.subplots(2,2)\n",
    "plt.sca(axs[0,0])\n",
    "plot_beta_distribution(.1, .1)\n",
    "\n",
    "plt.sca(axs[0,1])\n",
    "plot_beta_distribution(1, 1)\n",
    "\n",
    "plt.sca(axs[1,0])\n",
    "plot_beta_distribution(2, 3)\n",
    "\n",
    "plt.sca(axs[1,1])\n",
    "plot_beta_distribution(8, 4)\n",
    "\n",
    "plt.tight_layout()\n",
    "\n"
   ]
  },
  {
   "cell_type": "code",
   "execution_count": null,
   "metadata": {},
   "outputs": [],
   "source": [
    "def binom_likelihood_function(m, mu, N):\n",
    "    n_over_m = factorial(N) / (factorial(N-m) * factorial(m))\n",
    "    return mu**m * (1-mu)**(N-m) * n_over_m"
   ]
  },
  {
   "cell_type": "code",
   "execution_count": null,
   "metadata": {},
   "outputs": [],
   "source": [
    "ems = np.arange(10)\n",
    "\n",
    "plt.bar(ems, binom_likelihood_function(ems, .25, 10))\n",
    "plt.title('The Binomial distribution')"
   ]
  },
  {
   "cell_type": "code",
   "execution_count": null,
   "metadata": {},
   "outputs": [],
   "source": [
    "# Plot the likelihood function after seeing one observation \n",
    "fig, axs = plt.subplots(1,3, figsize=(9, 4))\n",
    "\n",
    "a = 2\n",
    "b = 2\n",
    "\n",
    "plt.sca(axs[0])\n",
    "plot_beta_distribution(a, b)\n",
    "plt.title('Prior')\n",
    "\n",
    "plt.sca(axs[1])\n",
    "plt.plot(mus, binom_likelihood_function(1, mus, 1))\n",
    "plt.ylim([0,1.5])\n",
    "plt.title('Likelihood function')\n",
    "a += 1\n",
    "\n",
    "plt.sca(axs[2])\n",
    "plot_beta_distribution(a, b)\n",
    "plt.title('Posterior')\n",
    "\n"
   ]
  },
  {
   "cell_type": "code",
   "execution_count": null,
   "metadata": {},
   "outputs": [],
   "source": []
  },
  {
   "cell_type": "code",
   "execution_count": null,
   "metadata": {},
   "outputs": [],
   "source": []
  },
  {
   "cell_type": "code",
   "execution_count": null,
   "metadata": {},
   "outputs": [],
   "source": []
  },
  {
   "cell_type": "code",
   "execution_count": null,
   "metadata": {},
   "outputs": [],
   "source": []
  },
  {
   "cell_type": "code",
   "execution_count": null,
   "metadata": {},
   "outputs": [],
   "source": []
  },
  {
   "cell_type": "code",
   "execution_count": null,
   "metadata": {},
   "outputs": [],
   "source": []
  }
 ],
 "metadata": {
  "kernelspec": {
   "display_name": "Python 3",
   "language": "python",
   "name": "python3"
  },
  "language_info": {
   "codemirror_mode": {
    "name": "ipython",
    "version": 3
   },
   "file_extension": ".py",
   "mimetype": "text/x-python",
   "name": "python",
   "nbconvert_exporter": "python",
   "pygments_lexer": "ipython3"
  }
 },
 "nbformat": 4,
 "nbformat_minor": 2
}
