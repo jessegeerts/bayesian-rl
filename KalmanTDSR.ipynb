{
 "cells": [
  {
   "cell_type": "code",
   "execution_count": null,
   "metadata": {},
   "outputs": [],
   "source": [
    "from agent import KalmanSR\n",
    "from environment import SimpleMDP\n",
    "import numpy as np\n",
    "import pandas as pd\n",
    "import matplotlib.pyplot as plt\n",
    "import networkx as nx\n",
    "from dynamic_programming import value_iteration\n",
    "import seaborn as sns\n",
    "from tqdm import tqdm_notebook as tqdm\n",
    "from itertools import product"
   ]
  },
  {
   "cell_type": "code",
   "execution_count": null,
   "metadata": {},
   "outputs": [],
   "source": [
    "%matplotlib notebook"
   ]
  },
  {
   "cell_type": "code",
   "execution_count": null,
   "metadata": {},
   "outputs": [],
   "source": [
    "env = SimpleMDP(5)"
   ]
  },
  {
   "cell_type": "code",
   "execution_count": null,
   "metadata": {},
   "outputs": [],
   "source": [
    "env.create_graph()"
   ]
  },
  {
   "cell_type": "code",
   "execution_count": null,
   "metadata": {},
   "outputs": [],
   "source": [
    "plt.figure()\n",
    "\n",
    "positions = {0: (0, 0), 1: (1, 0), 2: (2, 0), 3: (3, 0), 4: (4, 0)}\n",
    "\n",
    "env.show_graph(layout=positions)"
   ]
  },
  {
   "cell_type": "markdown",
   "metadata": {},
   "source": [
    "# Learning the SR using a kalman filter "
   ]
  },
  {
   "cell_type": "code",
   "execution_count": null,
   "metadata": {
    "lines_to_end_of_cell_marker": 2,
    "lines_to_next_cell": 2
   },
   "outputs": [],
   "source": [
    "transition_noise = .005 * np.eye(env.nr_states ** 2)\n",
    "gamma = .9\n",
    "prior_M = np.eye(env.nr_states).flatten()\n",
    "prior_covariance = np.eye(env.nr_states ** 2)  # np.ones((env.nr_states**2, env.nr_states**2))\n",
    "#prior_covariance = np.ones((env.nr_states**2, env.nr_states**2))\n",
    "observation_noise_variance = np.eye(env.nr_states)  # np.ones([env.nr_states, env.nr_states])\n",
    "#observation_noise_variance = np.ones([env.nr_states, env.nr_states])\n",
    "\n",
    "M = prior_M\n",
    "covariance = prior_covariance\n",
    "\n",
    "\n",
    "def get_feature_representation(state_idx):\n",
    "    \"\"\"Get one-hot feature representation from state index.\n",
    "    \"\"\"\n",
    "    if env.is_terminal(state_idx):\n",
    "        return np.zeros(env.nr_states)\n",
    "    else:\n",
    "        return np.eye(env.nr_states)[state_idx]"
   ]
  },
  {
   "cell_type": "code",
   "execution_count": null,
   "metadata": {},
   "outputs": [],
   "source": [
    "for episode in tqdm(range(100)):\n",
    "    env.reset()\n",
    "    t = 0\n",
    "    s = env.get_current_state()\n",
    "    features = get_feature_representation(s)\n",
    "\n",
    "    while not env.is_terminal(env.get_current_state()) and t < 1000:\n",
    "        a = 1 #np.random.choice([0,1])\n",
    "\n",
    "        next_state, reward = env.act(a)\n",
    "        next_features = get_feature_representation(next_state)\n",
    "        H = features - gamma * next_features  # Temporal difference features\n",
    "\n",
    "        # Prediction step;\n",
    "        a_priori_covariance = covariance + transition_noise\n",
    "\n",
    "        # Compute statistics of interest;\n",
    "        feature_block_matrix = np.kron(H, np.eye(env.nr_states)).T\n",
    "\n",
    "        phi_hat = np.matmul(feature_block_matrix.T, M)\n",
    "        delta_t = features - phi_hat\n",
    "        parameter_error_cov = np.matmul(a_priori_covariance, feature_block_matrix)\n",
    "        residual_cov = np.matmul(np.matmul(feature_block_matrix.T, a_priori_covariance),\n",
    "                                   feature_block_matrix) + observation_noise_variance\n",
    "\n",
    "        # Correction step;\n",
    "        kalman_gain = np.matmul(parameter_error_cov, np.linalg.inv(residual_cov))\n",
    "        if t==0:\n",
    "            kmgain = kalman_gain\n",
    "        delta_M = np.matmul(kalman_gain, delta_t)\n",
    "\n",
    "        M += delta_M\n",
    "\n",
    "        covariance = a_priori_covariance - np.matmul(np.matmul(kalman_gain, residual_cov), kalman_gain.T)\n",
    "\n",
    "        s = next_state\n",
    "        features = get_feature_representation(s)\n",
    "\n",
    "        t += 1\n",
    "np.around(M.reshape(env.nr_states, -1), decimals=3)"
   ]
  },
  {
   "cell_type": "code",
   "execution_count": null,
   "metadata": {},
   "outputs": [],
   "source": [
    "plt.figure()\n",
    "plt.plot(M.reshape(env.nr_states, -1)[2])"
   ]
  },
  {
   "cell_type": "code",
   "execution_count": null,
   "metadata": {
    "lines_to_next_cell": 2
   },
   "outputs": [],
   "source": []
  },
  {
   "cell_type": "code",
   "execution_count": null,
   "metadata": {},
   "outputs": [],
   "source": [
    "# how does the 1--> 2 predictiveness covary with the 2-->3 predictiveness? \n",
    "M[1]"
   ]
  },
  {
   "cell_type": "code",
   "execution_count": null,
   "metadata": {},
   "outputs": [],
   "source": [
    "np.nonzero(covariance[0])"
   ]
  },
  {
   "cell_type": "code",
   "execution_count": null,
   "metadata": {},
   "outputs": [],
   "source": [
    "m_labels = ['M{}-{}'.format(i, j) for i, j in product(list(range(env.nr_states)), list(range(env.nr_states)))]"
   ]
  },
  {
   "cell_type": "code",
   "execution_count": null,
   "metadata": {
    "lines_to_next_cell": 0
   },
   "outputs": [],
   "source": [
    "plt.figure()\n",
    "plt.imshow(covariance[:-env.nr_states, :-env.nr_states])\n",
    "plt.xticks(ticks=list(range(env.nr_states**2 - env.nr_states)), labels=m_labels, rotation=90)\n",
    "plt.yticks(ticks=list(range(env.nr_states**2 - env.nr_states)), labels=m_labels, rotation=0)\n",
    "\n",
    "plt.colorbar()"
   ]
  },
  {
   "cell_type": "code",
   "execution_count": null,
   "metadata": {},
   "outputs": [],
   "source": [
    "M"
   ]
  },
  {
   "cell_type": "code",
   "execution_count": null,
   "metadata": {},
   "outputs": [],
   "source": []
  },
  {
   "cell_type": "code",
   "execution_count": null,
   "metadata": {},
   "outputs": [],
   "source": []
  },
  {
   "cell_type": "code",
   "execution_count": null,
   "metadata": {},
   "outputs": [],
   "source": []
  },
  {
   "cell_type": "code",
   "execution_count": null,
   "metadata": {
    "lines_to_next_cell": 2
   },
   "outputs": [],
   "source": []
  }
 ],
 "metadata": {
  "jupytext": {
   "formats": "ipynb,py:light"
  },
  "kernelspec": {
   "display_name": "Python 3",
   "language": "python",
   "name": "python3"
  },
  "language_info": {
   "codemirror_mode": {
    "name": "ipython",
    "version": 3
   },
   "file_extension": ".py",
   "mimetype": "text/x-python",
   "name": "python",
   "nbconvert_exporter": "python",
   "pygments_lexer": "ipython3",
   "version": "3.6.8"
  }
 },
 "nbformat": 4,
 "nbformat_minor": 2
}
