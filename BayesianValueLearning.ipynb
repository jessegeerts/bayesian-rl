{
 "cells": [
  {
   "cell_type": "code",
   "execution_count": null,
   "metadata": {},
   "outputs": [],
   "source": [
    "from agent import BayesQlearner\n",
    "import numpy as np\n",
    "import matplotlib.pyplot as plt\n",
    "import seaborn as sns\n",
    "from environment import SimpleMDP\n",
    "from tqdm import tqdm_notebook as tqdm\n",
    "from dynamic_programming import value_iteration\n",
    "%matplotlib notebook"
   ]
  },
  {
   "cell_type": "code",
   "execution_count": null,
   "metadata": {},
   "outputs": [],
   "source": [
    "agent = BayesQlearner()\n",
    "\n",
    "rvs = [agent.q_dists[0][1]]\n",
    "for ep in range(100):\n",
    "    agent.train_one_episode()\n",
    "    first_action_dist = agent.q_dists[0][1]\n",
    "    rvs.append(first_action_dist)\n"
   ]
  },
  {
   "cell_type": "code",
   "execution_count": null,
   "metadata": {},
   "outputs": [],
   "source": [
    "variance_first_action = [rv.var() for rv in rvs]"
   ]
  },
  {
   "cell_type": "code",
   "execution_count": null,
   "metadata": {},
   "outputs": [],
   "source": [
    "color_palette = sns.color_palette(\"Blues\", n_colors=len(rvs))"
   ]
  },
  {
   "cell_type": "code",
   "execution_count": null,
   "metadata": {},
   "outputs": [],
   "source": [
    "plt.figure()\n",
    "plt.plot(variance_first_action, color=color_palette[-1])\n",
    "plt.title('Uncertainty over value estimate')"
   ]
  },
  {
   "cell_type": "code",
   "execution_count": null,
   "metadata": {},
   "outputs": [],
   "source": [
    "xs = np.linspace(0,1, 100)\n",
    "pol, val = value_iteration(agent.env)"
   ]
  },
  {
   "cell_type": "code",
   "execution_count": null,
   "metadata": {},
   "outputs": [],
   "source": [
    "plt.figure()\n",
    "for i, rv in enumerate(rvs):\n",
    "    plt.plot(xs, rv.pdf(xs), color=color_palette[i])\n",
    "\n",
    "plt.axvline(val[0], LineStyle='--', color='k')\n",
    "\n",
    "plt.annotate(xy= (.66, 16), s='True value -->',)\n",
    "plt.title('Distribution over Q(s0, a1)')\n",
    "plt.ylabel('P(Q=q)')\n",
    "plt.xlabel('q')"
   ]
  },
  {
   "cell_type": "code",
   "execution_count": null,
   "metadata": {},
   "outputs": [],
   "source": []
  },
  {
   "cell_type": "code",
   "execution_count": null,
   "metadata": {},
   "outputs": [],
   "source": [
    "en = SimpleMDP(20)"
   ]
  },
  {
   "cell_type": "code",
   "execution_count": null,
   "metadata": {},
   "outputs": [],
   "source": [
    "agent = BayesQlearner(en)\n",
    "\n",
    "rvs = [agent.q_dists[0][1]]\n",
    "for ep in tqdm(range(20)):\n",
    "    agent.train_one_episode()\n",
    "    first_action_dist = agent.q_dists[0][1]\n",
    "    rvs.append(first_action_dist)\n",
    "\n"
   ]
  },
  {
   "cell_type": "code",
   "execution_count": null,
   "metadata": {},
   "outputs": [],
   "source": [
    "color_palette = sns.color_palette(\"Blues\", n_colors=len(rvs))"
   ]
  },
  {
   "cell_type": "code",
   "execution_count": null,
   "metadata": {},
   "outputs": [],
   "source": [
    "variance_first_action = [rv.var() for rv in rvs]"
   ]
  },
  {
   "cell_type": "code",
   "execution_count": null,
   "metadata": {},
   "outputs": [],
   "source": [
    "plt.figure()\n",
    "plt.plot(variance_first_action, color=color_palette[-1])\n",
    "plt.title('Uncertainty over value estimate')"
   ]
  },
  {
   "cell_type": "code",
   "execution_count": null,
   "metadata": {},
   "outputs": [],
   "source": [
    "plt.figure()\n",
    "for i, rv in enumerate(rvs):\n",
    "    plt.plot(xs, rv.pdf(xs), color=color_palette[i])\n",
    "\n",
    "plt.title('Distribution over Q(s0, a1)')"
   ]
  },
  {
   "cell_type": "code",
   "execution_count": null,
   "metadata": {},
   "outputs": [],
   "source": [
    "agent.q_dists[0][1].mean()"
   ]
  },
  {
   "cell_type": "code",
   "execution_count": null,
   "metadata": {},
   "outputs": [],
   "source": []
  },
  {
   "cell_type": "code",
   "execution_count": null,
   "metadata": {},
   "outputs": [],
   "source": [
    "plt.figure()\n",
    "plt.plot(xs, agent.q_dists[5][1].pdf(xs))"
   ]
  },
  {
   "cell_type": "code",
   "execution_count": null,
   "metadata": {},
   "outputs": [],
   "source": [
    "value_iteration(en)"
   ]
  },
  {
   "cell_type": "code",
   "execution_count": null,
   "metadata": {},
   "outputs": [],
   "source": []
  }
 ],
 "metadata": {
  "kernelspec": {
   "display_name": "Python 3",
   "language": "python",
   "name": "python3"
  },
  "language_info": {
   "codemirror_mode": {
    "name": "ipython",
    "version": 3
   },
   "file_extension": ".py",
   "mimetype": "text/x-python",
   "name": "python",
   "nbconvert_exporter": "python",
   "pygments_lexer": "ipython3",
   "version": "3.6.8"
  }
 },
 "nbformat": 4,
 "nbformat_minor": 2
}
