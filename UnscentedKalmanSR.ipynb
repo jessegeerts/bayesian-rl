{
 "cells": [
  {
   "cell_type": "code",
   "execution_count": null,
   "metadata": {},
   "outputs": [],
   "source": [
    "from agent import KalmanSR\n",
    "from environment import SimpleMDP\n",
    "import numpy as np\n",
    "import pandas as pd\n",
    "import matplotlib.pyplot as plt\n",
    "import networkx as nx\n",
    "from dynamic_programming import value_iteration\n",
    "import seaborn as sns\n",
    "from tqdm import tqdm_notebook as tqdm\n",
    "from itertools import product\n",
    "%matplotlib notebook"
   ]
  },
  {
   "cell_type": "code",
   "execution_count": null,
   "metadata": {},
   "outputs": [],
   "source": [
    "env = SimpleMDP(5)\n",
    "env.create_graph()\n",
    "\n",
    "plt.figure()\n",
    "positions = {0: (0, 0), 1: (1, 0), 2: (2, 0), 3: (3, 0), 4: (4, 0)}\n",
    "env.show_graph(layout=positions)\n"
   ]
  },
  {
   "cell_type": "code",
   "execution_count": null,
   "metadata": {},
   "outputs": [],
   "source": [
    "transition_noise = .005 * np.eye(env.nr_states ** 2)\n",
    "gamma = .9\n",
    "kappa = 1. \n",
    "prior_M = np.eye(env.nr_states).flatten()\n",
    "prior_covariance = np.eye(env.nr_states ** 2)  # np.ones((env.nr_states**2, env.nr_states**2))\n",
    "observation_noise_variance = np.eye(env.nr_states)  # np.ones([env.nr_states, env.nr_states])\n",
    "\n",
    "M = prior_M\n",
    "covariance = prior_covariance\n"
   ]
  },
  {
   "cell_type": "code",
   "execution_count": null,
   "metadata": {},
   "outputs": [],
   "source": [
    "def get_feature_representation(state_idx):\n",
    "    \"\"\"Get one-hot feature representation from state index.\n",
    "    \"\"\"\n",
    "    if env.is_terminal(state_idx):\n",
    "        return np.zeros(env.nr_states)\n",
    "    else:\n",
    "        return np.eye(env.nr_states)[state_idx]\n",
    "\n"
   ]
  },
  {
   "cell_type": "code",
   "execution_count": null,
   "metadata": {},
   "outputs": [],
   "source": []
  },
  {
   "cell_type": "code",
   "execution_count": null,
   "metadata": {},
   "outputs": [],
   "source": [
    "for episode in tqdm(range(100)):\n",
    "    env.reset()\n",
    "    t = 0\n",
    "    s = env.get_current_state()\n",
    "    features = get_feature_representation(s)\n",
    "\n",
    "    while not env.is_terminal(env.get_current_state()) and t < 1000:\n",
    "        a = 1 # np.random.choice([0,1])\n",
    "       \n",
    "        next_state, reward = env.act(a)\n",
    "        next_features = get_feature_representation(next_state)\n",
    "        H = features - gamma * next_features  # Temporal difference features\n",
    "        feature_block_matrix = np.kron(H, np.eye(env.nr_states)).T\n",
    "        \n",
    "        # Prediction step;\n",
    "        a_priori_covariance = covariance + transition_noise\n",
    "\n",
    "        # compute sigma points\n",
    "        n = len(M)\n",
    "        X = np.empty((2 * n + 1, n))\n",
    "        X[:, :] = M[None, :]  # fill array with m for each\n",
    "        cholesky = np.linalg.cholesky((kappa + n) * covariance)\n",
    "        for j in range(n):\n",
    "            X[j+1,:] += cholesky[:, j]\n",
    "            X[j+n+1,:] -= cholesky[:, j]\n",
    "        weights = np.ones(2*n+1) * (1. / (2 * (kappa +n) ) )\n",
    "        weights[0] = (kappa / (kappa + n))\n",
    "        \n",
    "        Y = np.matmul(X, feature_block_matrix)\n",
    "\n",
    "        \n",
    "        # TODO: compute sigma y and sig\n",
    "        \n",
    "        # Compute statistics of interest;\n",
    "        phi_hat = np.multiply(Y, weights[:, np.newaxis]).sum(axis=0)\n",
    "\n",
    "        param_error_cov = np.sum([weights[j] * np.outer((X[j] - M), (Y[j] - phi_hat)) \n",
    "                                  for j in range(len(weights))], axis=0)\n",
    "        \n",
    "        residual_cov = np.maximum(np.sum([weights[j] *np.outer((Y[j] - phi_hat), (Y[j] - phi_hat))\n",
    "                               for j in range(len(weights))], axis=0), 10e-5)\n",
    "        \n",
    "        delta_t = features - phi_hat\n",
    "\n",
    "        \n",
    "        # Correction step;\n",
    "        kalman_gain = np.matmul(param_error_cov, np.linalg.inv(residual_cov))\n",
    "        delta_M = np.matmul(kalman_gain, delta_t)\n",
    "\n",
    "        M += delta_M\n",
    "\n",
    "        covariance = a_priori_covariance - np.matmul(np.matmul(kalman_gain, residual_cov), kalman_gain.T)\n",
    "\n",
    "        s = next_state\n",
    "        features = get_feature_representation(s)\n",
    "\n",
    "        t += 1\n",
    "np.around(M.reshape(env.nr_states, -1), decimals=3)\n"
   ]
  },
  {
   "cell_type": "code",
   "execution_count": null,
   "metadata": {},
   "outputs": [],
   "source": [
    "plt.figure()\n",
    "m_labels = ['{}-{}'.format(i, j) for i, j in product(list(range(env.nr_states)), list(range(env.nr_states)))]\n",
    "\n",
    "plt.imshow(covariance[:-5, :-5])\n",
    "plt.xticks(ticks=list(range(env.nr_states**2 - env.nr_states)), labels=m_labels, rotation=90)\n",
    "plt.yticks(ticks=list(range(env.nr_states**2 - env.nr_states)), labels=m_labels, rotation=0)\n",
    "\n",
    "plt.colorbar()"
   ]
  },
  {
   "cell_type": "code",
   "execution_count": null,
   "metadata": {},
   "outputs": [],
   "source": [
    "np.diag(covariance)"
   ]
  },
  {
   "cell_type": "code",
   "execution_count": null,
   "metadata": {},
   "outputs": [],
   "source": [
    "phi_hat"
   ]
  },
  {
   "cell_type": "code",
   "execution_count": null,
   "metadata": {},
   "outputs": [],
   "source": [
    "covariance"
   ]
  },
  {
   "cell_type": "code",
   "execution_count": null,
   "metadata": {},
   "outputs": [],
   "source": []
  },
  {
   "cell_type": "code",
   "execution_count": null,
   "metadata": {},
   "outputs": [],
   "source": []
  },
  {
   "cell_type": "code",
   "execution_count": null,
   "metadata": {},
   "outputs": [],
   "source": []
  },
  {
   "cell_type": "code",
   "execution_count": null,
   "metadata": {},
   "outputs": [],
   "source": []
  },
  {
   "cell_type": "code",
   "execution_count": null,
   "metadata": {},
   "outputs": [],
   "source": []
  }
 ],
 "metadata": {
  "kernelspec": {
   "display_name": "Python 3",
   "language": "python",
   "name": "python3"
  },
  "language_info": {
   "codemirror_mode": {
    "name": "ipython",
    "version": 3
   },
   "file_extension": ".py",
   "mimetype": "text/x-python",
   "name": "python",
   "nbconvert_exporter": "python",
   "pygments_lexer": "ipython3",
   "version": "3.6.8"
  }
 },
 "nbformat": 4,
 "nbformat_minor": 2
}
