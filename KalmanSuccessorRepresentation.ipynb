{
 "cells": [
  {
   "cell_type": "code",
   "execution_count": 1,
   "metadata": {},
   "outputs": [],
   "source": [
    "from agent import KalmanSR\n",
    "from environment import SimpleMDP\n",
    "import numpy as np\n",
    "import pandas as pd\n",
    "import matplotlib.pyplot as plt\n",
    "import networkx as nx\n",
    "from dynamic_programming import value_iteration\n",
    "import seaborn as sns\n",
    "%matplotlib notebook"
   ]
  },
  {
   "cell_type": "markdown",
   "metadata": {},
   "source": [
    "# Set up the problem "
   ]
  },
  {
   "cell_type": "code",
   "execution_count": 2,
   "metadata": {},
   "outputs": [],
   "source": [
    "env = SimpleMDP(5)"
   ]
  },
  {
   "cell_type": "code",
   "execution_count": 3,
   "metadata": {},
   "outputs": [],
   "source": [
    "env.create_graph()"
   ]
  },
  {
   "cell_type": "code",
   "execution_count": 4,
   "metadata": {},
   "outputs": [
    {
     "data": {
      "image/png": "[encoded data removed]",
      "text/plain": [
       "<Figure size 432x288 with 1 Axes>"
      ]
     },
     "metadata": {},
     "output_type": "display_data"
    }
   ],
   "source": [
    "plt.figure()\n",
    "\n",
    "positions = {0:(0,0), 1:(1,0), 2:(2,0), 3:(3,0), 4:(4,0)}\n",
    "\n",
    "env.show_graph(layout=positions)"
   ]
  },
  {
   "cell_type": "code",
   "execution_count": 5,
   "metadata": {},
   "outputs": [],
   "source": [
    "optimal_policy, optimal_values = value_iteration(env)"
   ]
  },
  {
   "cell_type": "code",
   "execution_count": 6,
   "metadata": {},
   "outputs": [
    {
     "data": {
      "text/plain": [
       "[[0, 1.0], [0, 1.0], [0, 1.0], [0, 1.0], []]"
      ]
     },
     "execution_count": 6,
     "metadata": {},
     "output_type": "execute_result"
    }
   ],
   "source": [
    "optimal_policy"
   ]
  },
  {
   "cell_type": "code",
   "execution_count": 7,
   "metadata": {},
   "outputs": [
    {
     "data": {
      "text/plain": [
       "array([0.729, 0.81 , 0.9  , 1.   , 0.   ])"
      ]
     },
     "execution_count": 7,
     "metadata": {},
     "output_type": "execute_result"
    }
   ],
   "source": [
    "optimal_values"
   ]
  },
  {
   "cell_type": "code",
   "execution_count": 8,
   "metadata": {},
   "outputs": [
    {
     "data": {
      "text/plain": [
       "array([[0., 1., 0., 0., 0.],\n",
       "       [0., 0., 1., 0., 0.],\n",
       "       [0., 0., 0., 1., 0.],\n",
       "       [0., 0., 0., 0., 1.],\n",
       "       [0., 0., 0., 0., 0.]])"
      ]
     },
     "execution_count": 8,
     "metadata": {},
     "output_type": "execute_result"
    }
   ],
   "source": [
    "env.get_transition_matrix(optimal_policy)"
   ]
  },
  {
   "cell_type": "code",
   "execution_count": 9,
   "metadata": {},
   "outputs": [
    {
     "data": {
      "text/plain": [
       "array([[1.    , 0.9   , 0.81  , 0.729 , 0.6561],\n",
       "       [0.    , 1.    , 0.9   , 0.81  , 0.729 ],\n",
       "       [0.    , 0.    , 1.    , 0.9   , 0.81  ],\n",
       "       [0.    , 0.    , 0.    , 1.    , 0.9   ],\n",
       "       [0.    , 0.    , 0.    , 0.    , 1.    ]])"
      ]
     },
     "execution_count": 9,
     "metadata": {},
     "output_type": "execute_result"
    }
   ],
   "source": [
    "M = env.get_successor_representation(optimal_policy, gamma=.9)\n",
    "M"
   ]
  },
  {
   "cell_type": "code",
   "execution_count": 10,
   "metadata": {},
   "outputs": [
    {
     "data": {
      "text/plain": [
       "Text(0.5, 1.0, 'True successor representation')"
      ]
     },
     "execution_count": 10,
     "metadata": {},
     "output_type": "execute_result"
    },
    {
     "data": {
      "image/png": "[encoded data removed]",
      "text/plain": [
       "<Figure size 432x288 with 2 Axes>"
      ]
     },
     "metadata": {
      "needs_background": "light"
     },
     "output_type": "display_data"
    }
   ],
   "source": [
    "plt.figure()\n",
    "sns.heatmap(M[:,:-1])\n",
    "plt.title('True successor representation')"
   ]
  },
  {
   "cell_type": "markdown",
   "metadata": {},
   "source": [
    "# Learning the successor representation using Kalman TD "
   ]
  },
  {
   "cell_type": "code",
   "execution_count": 11,
   "metadata": {},
   "outputs": [],
   "source": [
    "agent = KalmanSR(environment=env)"
   ]
  },
  {
   "cell_type": "code",
   "execution_count": 12,
   "metadata": {},
   "outputs": [],
   "source": [
    "all_results = {}\n",
    "for trial in range(100):\n",
    "    results = agent.train_one_episode()\n",
    "    all_results[trial] = results"
   ]
  },
  {
   "cell_type": "code",
   "execution_count": 13,
   "metadata": {},
   "outputs": [],
   "source": [
    "results = pd.DataFrame.from_dict({(trial, step): all_results[trial][step] \n",
    "                           for trial in all_results.keys() \n",
    "                           for step in all_results[trial].keys()},\n",
    "                       orient='index')\n",
    "\n",
    "results.index.names = ['trial', 't']"
   ]
  },
  {
   "cell_type": "code",
   "execution_count": 14,
   "metadata": {},
   "outputs": [
    {
     "data": {
      "text/html": [
       "<div>\n",
       "<style scoped>\n",
       "    .dataframe tbody tr th:only-of-type {\n",
       "        vertical-align: middle;\n",
       "    }\n",
       "\n",
       "    .dataframe tbody tr th {\n",
       "        vertical-align: top;\n",
       "    }\n",
       "\n",
       "    .dataframe thead th {\n",
       "        text-align: right;\n",
       "    }\n",
       "</style>\n",
       "<table border=\"1\" class=\"dataframe\">\n",
       "  <thead>\n",
       "    <tr style=\"text-align: right;\">\n",
       "      <th></th>\n",
       "      <th></th>\n",
       "      <th>SR</th>\n",
       "      <th>cov</th>\n",
       "      <th>K</th>\n",
       "      <th>dt</th>\n",
       "      <th>r</th>\n",
       "      <th>state</th>\n",
       "      <th>V</th>\n",
       "      <th>V_var</th>\n",
       "      <th>w</th>\n",
       "    </tr>\n",
       "    <tr>\n",
       "      <th>trial</th>\n",
       "      <th>t</th>\n",
       "      <th></th>\n",
       "      <th></th>\n",
       "      <th></th>\n",
       "      <th></th>\n",
       "      <th></th>\n",
       "      <th></th>\n",
       "      <th></th>\n",
       "      <th></th>\n",
       "      <th></th>\n",
       "    </tr>\n",
       "  </thead>\n",
       "  <tbody>\n",
       "    <tr>\n",
       "      <th rowspan=\"4\" valign=\"top\">0</th>\n",
       "      <th>0</th>\n",
       "      <td>[[1.0, 0.8992925930123037, 0.8086934783278618,...</td>\n",
       "      <td>[[0.6467144073358045, 0.3224570333977758, 0.0,...</td>\n",
       "      <td>[0.35650307727780634, -0.32085276955002573, 0....</td>\n",
       "      <td>[0.0, 0.9, 0.0, 0.0, 0.0]</td>\n",
       "      <td>0.0</td>\n",
       "      <td>0</td>\n",
       "      <td>[0.0, 0.0, 0.0, 0.0, 0.0]</td>\n",
       "      <td>[0.4182395246557009, 0.5109228426774557, 1.010...</td>\n",
       "      <td>[0.0, 0.0, 0.0, 0.0, 0.0]</td>\n",
       "    </tr>\n",
       "    <tr>\n",
       "      <th>1</th>\n",
       "      <td>[[1.0, 0.8992925930123037, 0.8086934783278618,...</td>\n",
       "      <td>[[0.6107439189061169, 0.23100269896153247, 0.1...</td>\n",
       "      <td>[0.12705720200293297, 0.2836171178298577, -0.3...</td>\n",
       "      <td>[0.0, 0.2887674925950232, 0.9, 0.0, 0.0]</td>\n",
       "      <td>0.0</td>\n",
       "      <td>1</td>\n",
       "      <td>[0.0, 0.0, 0.0, 0.0, 0.0]</td>\n",
       "      <td>[0.3730081344808015, 0.2658890254834591, 0.468...</td>\n",
       "      <td>[0.0, 0.0, 0.0, 0.0, 0.0]</td>\n",
       "    </tr>\n",
       "    <tr>\n",
       "      <th>2</th>\n",
       "      <td>[[1.0, 0.8992925930123037, 0.8086934783278618,...</td>\n",
       "      <td>[[0.6104328647791226, 0.2191473626217498, 0.08...</td>\n",
       "      <td>[0.04598514465901901, 0.10264805131533578, 0.2...</td>\n",
       "      <td>[0.0, 0.10342835518268605, 0.3223545657023229,...</td>\n",
       "      <td>0.0</td>\n",
       "      <td>2</td>\n",
       "      <td>[0.0, 0.0, 0.0, 0.0, 0.0]</td>\n",
       "      <td>[0.37367386426308336, 0.2484323274751288, 0.28...</td>\n",
       "      <td>[0.0, 0.0, 0.0, 0.0, 0.0]</td>\n",
       "    </tr>\n",
       "    <tr>\n",
       "      <th>3</th>\n",
       "      <td>[[1.0, 0.8992925930123037, 0.8086934783278618,...</td>\n",
       "      <td>[[0.6143873133971218, 0.216813482567479, 0.077...</td>\n",
       "      <td>[0.024889677631110316, 0.0555587445825136, 0.1...</td>\n",
       "      <td>[0.0, 0.037618593712848244, 0.1172456568338362...</td>\n",
       "      <td>1.0</td>\n",
       "      <td>3</td>\n",
       "      <td>[0.08488094956550846, 0.13363612042932876, 0.2...</td>\n",
       "      <td>[0.48099881905105407, 0.3320709734064417, 0.33...</td>\n",
       "      <td>[0.024889677631110316, 0.0555587445825136, 0.1...</td>\n",
       "    </tr>\n",
       "    <tr>\n",
       "      <th>1</th>\n",
       "      <th>0</th>\n",
       "      <td>[[1.0, 0.8992925930123037, 0.8086934783278618,...</td>\n",
       "      <td>[[0.5091849021501216, 0.27714431685683805, 0.0...</td>\n",
       "      <td>[0.2597550169789673, -0.1422041197452865, -0.0...</td>\n",
       "      <td>[0.0, 0.36201956336094676, 0.13327943625503305...</td>\n",
       "      <td>0.0</td>\n",
       "      <td>0</td>\n",
       "      <td>[0.09591527331913088, 0.12810245274142568, 0.2...</td>\n",
       "      <td>[0.34596881358649517, 0.2996059245410455, 0.33...</td>\n",
       "      <td>[0.018424458995440235, 0.05909815928078959, 0....</td>\n",
       "    </tr>\n",
       "  </tbody>\n",
       "</table>\n",
       "</div>"
      ],
      "text/plain": [
       "                                                        SR  \\\n",
       "trial t                                                      \n",
       "0     0  [[1.0, 0.8992925930123037, 0.8086934783278618,...   \n",
       "      1  [[1.0, 0.8992925930123037, 0.8086934783278618,...   \n",
       "      2  [[1.0, 0.8992925930123037, 0.8086934783278618,...   \n",
       "      3  [[1.0, 0.8992925930123037, 0.8086934783278618,...   \n",
       "1     0  [[1.0, 0.8992925930123037, 0.8086934783278618,...   \n",
       "\n",
       "                                                       cov  \\\n",
       "trial t                                                      \n",
       "0     0  [[0.6467144073358045, 0.3224570333977758, 0.0,...   \n",
       "      1  [[0.6107439189061169, 0.23100269896153247, 0.1...   \n",
       "      2  [[0.6104328647791226, 0.2191473626217498, 0.08...   \n",
       "      3  [[0.6143873133971218, 0.216813482567479, 0.077...   \n",
       "1     0  [[0.5091849021501216, 0.27714431685683805, 0.0...   \n",
       "\n",
       "                                                         K  \\\n",
       "trial t                                                      \n",
       "0     0  [0.35650307727780634, -0.32085276955002573, 0....   \n",
       "      1  [0.12705720200293297, 0.2836171178298577, -0.3...   \n",
       "      2  [0.04598514465901901, 0.10264805131533578, 0.2...   \n",
       "      3  [0.024889677631110316, 0.0555587445825136, 0.1...   \n",
       "1     0  [0.2597550169789673, -0.1422041197452865, -0.0...   \n",
       "\n",
       "                                                        dt    r  state  \\\n",
       "trial t                                                                  \n",
       "0     0                          [0.0, 0.9, 0.0, 0.0, 0.0]  0.0      0   \n",
       "      1           [0.0, 0.2887674925950232, 0.9, 0.0, 0.0]  0.0      1   \n",
       "      2  [0.0, 0.10342835518268605, 0.3223545657023229,...  0.0      2   \n",
       "      3  [0.0, 0.037618593712848244, 0.1172456568338362...  1.0      3   \n",
       "1     0  [0.0, 0.36201956336094676, 0.13327943625503305...  0.0      0   \n",
       "\n",
       "                                                         V  \\\n",
       "trial t                                                      \n",
       "0     0                          [0.0, 0.0, 0.0, 0.0, 0.0]   \n",
       "      1                          [0.0, 0.0, 0.0, 0.0, 0.0]   \n",
       "      2                          [0.0, 0.0, 0.0, 0.0, 0.0]   \n",
       "      3  [0.08488094956550846, 0.13363612042932876, 0.2...   \n",
       "1     0  [0.09591527331913088, 0.12810245274142568, 0.2...   \n",
       "\n",
       "                                                     V_var  \\\n",
       "trial t                                                      \n",
       "0     0  [0.4182395246557009, 0.5109228426774557, 1.010...   \n",
       "      1  [0.3730081344808015, 0.2658890254834591, 0.468...   \n",
       "      2  [0.37367386426308336, 0.2484323274751288, 0.28...   \n",
       "      3  [0.48099881905105407, 0.3320709734064417, 0.33...   \n",
       "1     0  [0.34596881358649517, 0.2996059245410455, 0.33...   \n",
       "\n",
       "                                                         w  \n",
       "trial t                                                     \n",
       "0     0                          [0.0, 0.0, 0.0, 0.0, 0.0]  \n",
       "      1                          [0.0, 0.0, 0.0, 0.0, 0.0]  \n",
       "      2                          [0.0, 0.0, 0.0, 0.0, 0.0]  \n",
       "      3  [0.024889677631110316, 0.0555587445825136, 0.1...  \n",
       "1     0  [0.018424458995440235, 0.05909815928078959, 0....  "
      ]
     },
     "execution_count": 14,
     "metadata": {},
     "output_type": "execute_result"
    }
   ],
   "source": [
    "results.head()"
   ]
  },
  {
   "cell_type": "code",
   "execution_count": 15,
   "metadata": {},
   "outputs": [
    {
     "data": {
      "text/plain": [
       "array([[ 1.   ,  0.899,  0.809,  0.727,  0.   ],\n",
       "       [ 0.   ,  0.999,  0.899,  0.808,  0.   ],\n",
       "       [ 0.   , -0.   ,  0.999,  0.899,  0.   ],\n",
       "       [ 0.   , -0.   , -0.   ,  0.999,  0.   ],\n",
       "       [ 0.   ,  0.   ,  0.   ,  0.   ,  1.   ]])"
      ]
     },
     "execution_count": 15,
     "metadata": {},
     "output_type": "execute_result"
    }
   ],
   "source": [
    "np.around(results.iloc[-1]['SR'],decimals=3)"
   ]
  },
  {
   "cell_type": "code",
   "execution_count": 16,
   "metadata": {},
   "outputs": [
    {
     "data": {
      "text/plain": [
       "Text(0.5, 1.0, 'Kalman estimate of successor representation')"
      ]
     },
     "execution_count": 16,
     "metadata": {},
     "output_type": "execute_result"
    },
    {
     "data": {
      "image/png": "[encoded data removed]",
      "text/plain": [
       "<Figure size 432x288 with 2 Axes>"
      ]
     },
     "metadata": {
      "needs_background": "light"
     },
     "output_type": "display_data"
    }
   ],
   "source": [
    "plt.figure()\n",
    "sns.heatmap(results.iloc[-1]['SR'][:,:-1])\n",
    "plt.title('Kalman estimate of successor representation')"
   ]
  },
  {
   "cell_type": "code",
   "execution_count": 28,
   "metadata": {},
   "outputs": [
    {
     "data": {
      "text/plain": [
       "<matplotlib.image.AxesImage at 0x102ebca58>"
      ]
     },
     "execution_count": 28,
     "metadata": {},
     "output_type": "execute_result"
    },
    {
     "data": {
      "image/png": "[encoded data removed]",
      "text/plain": [
       "<Figure size 432x288 with 1 Axes>"
      ]
     },
     "metadata": {
      "needs_background": "light"
     },
     "output_type": "display_data"
    }
   ],
   "source": [
    "plt.imshow(results.iloc[-1]['cov'][:-1, :-1])"
   ]
  },
  {
   "cell_type": "markdown",
   "metadata": {},
   "source": [
    "## Estimating value using the SR"
   ]
  },
  {
   "cell_type": "code",
   "execution_count": 18,
   "metadata": {},
   "outputs": [],
   "source": [
    "V = np.concatenate(results['V'].values).reshape(-1, 5)"
   ]
  },
  {
   "cell_type": "code",
   "execution_count": 19,
   "metadata": {},
   "outputs": [
    {
     "data": {
      "text/plain": [
       "Text(0.5, 1.0, 'Value')"
      ]
     },
     "execution_count": 19,
     "metadata": {},
     "output_type": "execute_result"
    },
    {
     "data": {
      "image/png": "[encoded data removed]",
      "text/plain": [
       "<Figure size 432x288 with 1 Axes>"
      ]
     },
     "metadata": {
      "needs_background": "light"
     },
     "output_type": "display_data"
    }
   ],
   "source": [
    "for i in range(4):\n",
    "    plt.plot(V[:,i])\n",
    "    \n",
    "plt.legend(['State 1', 'State 2', 'State 3', 'State 4'])\n",
    "plt.title('Value')"
   ]
  },
  {
   "cell_type": "code",
   "execution_count": 20,
   "metadata": {},
   "outputs": [],
   "source": [
    "variances = np.array([np.diag(results['cov'].values[i]) for i in range(len(results))])"
   ]
  },
  {
   "cell_type": "code",
   "execution_count": 21,
   "metadata": {},
   "outputs": [
    {
     "data": {
      "text/plain": [
       "Text(0.5, 1.0, 'Uncertainty')"
      ]
     },
     "execution_count": 21,
     "metadata": {},
     "output_type": "execute_result"
    },
    {
     "data": {
      "image/png": "[encoded data removed]",
      "text/plain": [
       "<Figure size 432x288 with 1 Axes>"
      ]
     },
     "metadata": {
      "needs_background": "light"
     },
     "output_type": "display_data"
    }
   ],
   "source": [
    "for i in range(4):\n",
    "    plt.plot(variances[:,i])\n",
    "    \n",
    "plt.legend(['State 1', 'State 2', 'State 3', 'State 4'])\n",
    "plt.title('Uncertainty')"
   ]
  },
  {
   "cell_type": "code",
   "execution_count": 22,
   "metadata": {},
   "outputs": [],
   "source": [
    "V_variances = np.concatenate(results.V_var.values).reshape(-1,5)"
   ]
  },
  {
   "cell_type": "code",
   "execution_count": 23,
   "metadata": {},
   "outputs": [
    {
     "data": {
      "text/plain": [
       "Text(0.5, 1.0, 'Uncertainty in value estimate')"
      ]
     },
     "execution_count": 23,
     "metadata": {},
     "output_type": "execute_result"
    },
    {
     "data": {
      "image/png": "[encoded data removed]",
      "text/plain": [
       "<Figure size 432x288 with 1 Axes>"
      ]
     },
     "metadata": {
      "needs_background": "light"
     },
     "output_type": "display_data"
    }
   ],
   "source": [
    "for i in range(4):\n",
    "    plt.plot(V_variances[:,i])\n",
    "    \n",
    "plt.legend(['State 1', 'State 2', 'State 3', 'State 4'])\n",
    "plt.title('Uncertainty in value estimate')"
   ]
  },
  {
   "cell_type": "markdown",
   "metadata": {},
   "source": [
    "## Compare uncertainty in SR with uncertainty in V"
   ]
  },
  {
   "cell_type": "code",
   "execution_count": 24,
   "metadata": {},
   "outputs": [
    {
     "data": {
      "text/plain": [
       "<matplotlib.legend.Legend at 0x1a16d99e80>"
      ]
     },
     "execution_count": 24,
     "metadata": {},
     "output_type": "execute_result"
    },
    {
     "data": {
      "image/png": "[encoded data removed]",
      "text/plain": [
       "<Figure size 432x288 with 1 Axes>"
      ]
     },
     "metadata": {
      "needs_background": "light"
     },
     "output_type": "display_data"
    }
   ],
   "source": [
    "plt.plot(variances[:,3], color='green')\n",
    "plt.plot(V_variances[:,3], color='red')\n",
    "plt.legend(['MF', 'SR'])\n"
   ]
  },
  {
   "cell_type": "code",
   "execution_count": null,
   "metadata": {},
   "outputs": [],
   "source": []
  },
  {
   "cell_type": "code",
   "execution_count": null,
   "metadata": {},
   "outputs": [],
   "source": []
  },
  {
   "cell_type": "code",
   "execution_count": null,
   "metadata": {},
   "outputs": [],
   "source": []
  },
  {
   "cell_type": "code",
   "execution_count": null,
   "metadata": {},
   "outputs": [],
   "source": []
  },
  {
   "cell_type": "code",
   "execution_count": 25,
   "metadata": {},
   "outputs": [
    {
     "data": {
      "text/plain": [
       "array([[0.21931963, 0.09684065, 0.05324335, 0.02404325, 0.        ],\n",
       "       [0.09684065, 0.1813944 , 0.07326194, 0.03117608, 0.        ],\n",
       "       [0.05324335, 0.07326194, 0.15426709, 0.04854278, 0.        ],\n",
       "       [0.02404325, 0.03117608, 0.04854278, 0.11725476, 0.        ],\n",
       "       [0.        , 0.        , 0.        , 0.        , 3.        ]])"
      ]
     },
     "execution_count": 25,
     "metadata": {},
     "output_type": "execute_result"
    }
   ],
   "source": [
    "results['cov'].iloc[-1]"
   ]
  },
  {
   "cell_type": "code",
   "execution_count": 26,
   "metadata": {},
   "outputs": [
    {
     "data": {
      "text/plain": [
       "0.7273002758528431"
      ]
     },
     "execution_count": 26,
     "metadata": {},
     "output_type": "execute_result"
    }
   ],
   "source": [
    "results['SR'].iloc[-1][0, -2]"
   ]
  },
  {
   "cell_type": "code",
   "execution_count": 27,
   "metadata": {},
   "outputs": [
    {
     "data": {
      "text/plain": [
       "1.0000019326827743"
      ]
     },
     "execution_count": 27,
     "metadata": {},
     "output_type": "execute_result"
    }
   ],
   "source": [
    "results['w'].iloc[-1][-2]"
   ]
  },
  {
   "cell_type": "code",
   "execution_count": null,
   "metadata": {},
   "outputs": [],
   "source": []
  },
  {
   "cell_type": "code",
   "execution_count": null,
   "metadata": {},
   "outputs": [],
   "source": []
  }
 ],
 "metadata": {
  "kernelspec": {
   "display_name": "Python 3",
   "language": "python",
   "name": "python3"
  },
  "language_info": {
   "codemirror_mode": {
    "name": "ipython",
    "version": 3
   },
   "file_extension": ".py",
   "mimetype": "text/x-python",
   "name": "python",
   "nbconvert_exporter": "python",
   "pygments_lexer": "ipython3",
   "version": "3.6.8"
  }
 },
 "nbformat": 4,
 "nbformat_minor": 2
}
