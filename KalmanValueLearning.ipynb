{
 "cells": [
  {
   "cell_type": "code",
   "execution_count": null,
   "metadata": {},
   "outputs": [],
   "source": [
    "import numpy as np\n",
    "import matplotlib.pyplot as plt\n",
    "from agent import KTDV\n",
    "import pandas as pd\n",
    "from environment import SimpleMDP\n",
    "from tqdm import tqdm_notebook as tqdm\n",
    "%matplotlib notebook"
   ]
  },
  {
   "cell_type": "code",
   "execution_count": null,
   "metadata": {},
   "outputs": [],
   "source": [
    "ag = KTDV(environment=SimpleMDP(nr_states=3))\n",
    "\n",
    "all_results = {}\n",
    "for ep in range(50):\n",
    "    results = ag.train_one_episode(fixed_policy=True)\n",
    "    all_results[ep] = results\n",
    " "
   ]
  },
  {
   "cell_type": "code",
   "execution_count": null,
   "metadata": {},
   "outputs": [],
   "source": []
  },
  {
   "cell_type": "code",
   "execution_count": null,
   "metadata": {},
   "outputs": [],
   "source": [
    "results = pd.DataFrame.from_dict({(trial, step): all_results[trial][step] \n",
    "                           for trial in all_results.keys() \n",
    "                           for step in all_results[trial].keys()},\n",
    "                       orient='index')"
   ]
  },
  {
   "cell_type": "code",
   "execution_count": null,
   "metadata": {},
   "outputs": [],
   "source": [
    "results.index.names = ['trial', 't']"
   ]
  },
  {
   "cell_type": "code",
   "execution_count": null,
   "metadata": {},
   "outputs": [],
   "source": [
    "results.head()"
   ]
  },
  {
   "cell_type": "code",
   "execution_count": null,
   "metadata": {},
   "outputs": [],
   "source": [
    "plt.figure()\n",
    "plt.plot(np.array(results.xs(1,level='t').rhat))\n",
    "plt.title('Predicted reward for transition 2-3 (R hat)')"
   ]
  },
  {
   "cell_type": "code",
   "execution_count": null,
   "metadata": {},
   "outputs": [],
   "source": [
    "plt.figure()\n",
    "plt.plot(np.array(results.xs(1,level='t').V))\n",
    "plt.plot(np.array(results.xs(0,level='t').V))\n",
    "\n",
    "plt.legend(['State 2', 'State 1'])\n",
    "\n",
    "plt.title('Predicted value (V)')"
   ]
  },
  {
   "cell_type": "code",
   "execution_count": null,
   "metadata": {},
   "outputs": [],
   "source": [
    "plt.figure()\n",
    "plt.imshow(results.iloc[-1]['cov']);plt.colorbar()"
   ]
  },
  {
   "cell_type": "code",
   "execution_count": null,
   "metadata": {},
   "outputs": [],
   "source": [
    "results.iloc[-1]['weights']"
   ]
  },
  {
   "cell_type": "code",
   "execution_count": null,
   "metadata": {},
   "outputs": [],
   "source": [
    "results.iloc[-1].K"
   ]
  },
  {
   "cell_type": "code",
   "execution_count": null,
   "metadata": {},
   "outputs": [],
   "source": [
    "all_covs = np.stack(results['cov'].values)"
   ]
  },
  {
   "cell_type": "code",
   "execution_count": null,
   "metadata": {},
   "outputs": [],
   "source": [
    "plt.figure()\n",
    "plt.plot(all_covs[:, 1, 1])\n",
    "plt.plot(all_covs[:, 0, 0])\n",
    "plt.legend(['State 2', 'State 1'])\n",
    "\n",
    "plt.ylim([0,1])\n",
    "plt.title('Uncertainty (variance)')"
   ]
  },
  {
   "cell_type": "code",
   "execution_count": null,
   "metadata": {},
   "outputs": [],
   "source": []
  },
  {
   "cell_type": "markdown",
   "metadata": {},
   "source": [
    "## Now try a 2D GridWorld"
   ]
  },
  {
   "cell_type": "code",
   "execution_count": null,
   "metadata": {},
   "outputs": [],
   "source": [
    "from environment import GridWorld\n",
    "from matplotlib import pyplot as plt, patches as patches\n",
    "from mpl_toolkits.axes_grid1 import make_axes_locatable\n",
    "ag2 = KTDV(environment=GridWorld('./mdps/10x10.mdp'))"
   ]
  },
  {
   "cell_type": "code",
   "execution_count": null,
   "metadata": {},
   "outputs": [],
   "source": [
    "ag2.env.reward_func"
   ]
  },
  {
   "cell_type": "code",
   "execution_count": null,
   "metadata": {},
   "outputs": [],
   "source": [
    "def plot_maze(ax):\n",
    "    for idx in range(ag2.env.num_cols * ag2.env.num_rows):\n",
    "        x, y = ag2.env.get_state_position(idx)\n",
    "        if ag2.env.matrix_MDP[x][y] == -1:\n",
    "            plt.gca().add_patch(\n",
    "                patches.Rectangle(\n",
    "                    (y, ag2.env.num_rows - x - 1),  # (x,y)\n",
    "                    1.0,  # width\n",
    "                    1.0,  # height\n",
    "                    facecolor=\"gray\"\n",
    "                )\n",
    "            )\n",
    "        else:\n",
    "            pass\n",
    "\n",
    "    for i in range(ag2.env.num_cols):\n",
    "        plt.axvline(i, color='k', linestyle=':')\n",
    "    plt.axvline(ag2.env.num_rows, color='k', linestyle=':')\n",
    "\n",
    "    for j in range(ag2.env.num_rows):\n",
    "        plt.axhline(j, color='k', linestyle=':')\n",
    "    plt.axhline(ag2.env.num_rows, color='k', linestyle=':')\n",
    "\n",
    "    plt.text(ag2.env.goal_x + .1, ag2.env.goal_y + .1, 'G', fontsize=20, color='green')\n",
    "    plt.text(ag2.env.start_x + .1, ag2.env.start_y + .1, 'S', fontsize=20, color='black')\n",
    "\n",
    "\n",
    "    plt.xlim([0,12])\n",
    "    plt.ylim([0,12])\n",
    "    plt.box(False)\n",
    "\n",
    "    aspect_ratio = np.diff(ax.get_xlim())[0] / np.diff(ax.get_ylim())[0]\n",
    "    ax.set_aspect(aspect_ratio)\n",
    "    \n"
   ]
  },
  {
   "cell_type": "code",
   "execution_count": null,
   "metadata": {},
   "outputs": [],
   "source": [
    "fig, ax = plt.subplots()\n",
    "plot_maze(ax)"
   ]
  },
  {
   "cell_type": "code",
   "execution_count": null,
   "metadata": {},
   "outputs": [],
   "source": [
    "all_results = {}\n",
    "for ep in tqdm(range(50)):\n",
    "    results = ag2.train_one_episode(random_policy=True)\n",
    "    all_results[ep] = results\n"
   ]
  },
  {
   "cell_type": "code",
   "execution_count": null,
   "metadata": {},
   "outputs": [],
   "source": [
    "results = pd.DataFrame.from_dict({(trial, step): all_results[trial][step] \n",
    "                           for trial in all_results.keys() \n",
    "                           for step in all_results[trial].keys()},\n",
    "                       orient='index')\n",
    "\n",
    "results.index.names = ['trial', 't']"
   ]
  },
  {
   "cell_type": "code",
   "execution_count": null,
   "metadata": {},
   "outputs": [],
   "source": [
    "results.tail()"
   ]
  },
  {
   "cell_type": "code",
   "execution_count": null,
   "metadata": {},
   "outputs": [],
   "source": [
    "first_episode = results.xs(0,level='trial')"
   ]
  },
  {
   "cell_type": "code",
   "execution_count": null,
   "metadata": {},
   "outputs": [],
   "source": [
    "locations = np.array([ag2.env.get_state_position(t) for t in first_episode.state.values])"
   ]
  },
  {
   "cell_type": "code",
   "execution_count": null,
   "metadata": {},
   "outputs": [],
   "source": [
    "fig, ax = plt.subplots()\n",
    "\n",
    "plot_maze(ax)\n",
    "\n",
    "plt.scatter(locations[:,0]+.5, locations[:,1]+.5, alpha=.1)\n",
    "\n",
    "plt.title('Occupancy during first trial')\n"
   ]
  },
  {
   "cell_type": "code",
   "execution_count": null,
   "metadata": {},
   "outputs": [],
   "source": []
  },
  {
   "cell_type": "code",
   "execution_count": null,
   "metadata": {},
   "outputs": [],
   "source": []
  },
  {
   "cell_type": "code",
   "execution_count": null,
   "metadata": {},
   "outputs": [],
   "source": [
    "\n",
    "all_results = {}\n",
    "for ep in tqdm(range(100)):\n",
    "    results = ag2.train_one_episode(random_policy=False)\n",
    "    all_results[ep] = results\n"
   ]
  },
  {
   "cell_type": "code",
   "execution_count": null,
   "metadata": {},
   "outputs": [],
   "source": [
    "results = pd.DataFrame.from_dict({(trial, step): all_results[trial][step] \n",
    "                           for trial in all_results.keys() \n",
    "                           for step in all_results[trial].keys()},\n",
    "                       orient='index')\n",
    "\n",
    "results.index.names = ['trial', 't']"
   ]
  },
  {
   "cell_type": "code",
   "execution_count": null,
   "metadata": {},
   "outputs": [],
   "source": [
    "from plotting import GridWorldPlotter"
   ]
  },
  {
   "cell_type": "code",
   "execution_count": null,
   "metadata": {},
   "outputs": [],
   "source": [
    "b = GridWorldPlotter(ag2)"
   ]
  },
  {
   "cell_type": "code",
   "execution_count": null,
   "metadata": {},
   "outputs": [],
   "source": [
    "fig, ax = plt.subplots()\n",
    "b.plot_maze(ax)\n",
    "\n",
    "b.plot_value(ax)"
   ]
  },
  {
   "cell_type": "code",
   "execution_count": null,
   "metadata": {},
   "outputs": [],
   "source": [
    "fig, ax = plt.subplots()\n",
    "b.plot_maze(ax)\n",
    "\n",
    "b.plot_uncertainty(ax)"
   ]
  },
  {
   "cell_type": "code",
   "execution_count": null,
   "metadata": {},
   "outputs": [],
   "source": [
    "last_episode = results.xs(80,level='trial')\n",
    "\n",
    "locations = np.array([ag2.env.get_state_position(t) for t in last_episode.state.values])"
   ]
  },
  {
   "cell_type": "code",
   "execution_count": null,
   "metadata": {},
   "outputs": [],
   "source": [
    "fig, ax = plt.subplots()\n",
    "\n",
    "plot_maze(ax)\n",
    "\n",
    "plt.scatter(locations[:,0]+.5, locations[:,1]+.5, alpha=.3)\n",
    "\n"
   ]
  },
  {
   "cell_type": "code",
   "execution_count": null,
   "metadata": {},
   "outputs": [],
   "source": []
  },
  {
   "cell_type": "code",
   "execution_count": null,
   "metadata": {},
   "outputs": [],
   "source": []
  },
  {
   "cell_type": "code",
   "execution_count": null,
   "metadata": {},
   "outputs": [],
   "source": [
    "ag3 = KTDV(environment=GridWorld('./mdps/10x10.mdp'))"
   ]
  },
  {
   "cell_type": "code",
   "execution_count": null,
   "metadata": {},
   "outputs": [],
   "source": [
    "ag3.env.start_x = 1\n",
    "ag3.env.start_y = 1"
   ]
  },
  {
   "cell_type": "code",
   "execution_count": null,
   "metadata": {},
   "outputs": [],
   "source": [
    "all_results = {}\n",
    "for ep in tqdm(range(100)):\n",
    "    results = ag3.train_one_episode(random_policy=False)\n",
    "    all_results[ep] = results"
   ]
  },
  {
   "cell_type": "code",
   "execution_count": null,
   "metadata": {},
   "outputs": [],
   "source": [
    "plotter = GridWorldPlotter(ag3)"
   ]
  },
  {
   "cell_type": "code",
   "execution_count": null,
   "metadata": {},
   "outputs": [],
   "source": [
    "fig, ax = plt.subplots()\n",
    "plotter.plot_maze(ax)\n",
    "\n",
    "plotter.plot_uncertainty(ax)"
   ]
  },
  {
   "cell_type": "code",
   "execution_count": null,
   "metadata": {},
   "outputs": [],
   "source": [
    "fig, ax = plt.subplots()\n",
    "plotter.plot_maze(ax)\n",
    "\n"
   ]
  },
  {
   "cell_type": "code",
   "execution_count": null,
   "metadata": {},
   "outputs": [],
   "source": [
    "fig, ax = plt.subplots()\n",
    "plotter.plot_maze(ax)\n",
    "\n",
    "plotter.plot_value(ax)"
   ]
  },
  {
   "cell_type": "code",
   "execution_count": null,
   "metadata": {},
   "outputs": [],
   "source": []
  }
 ],
 "metadata": {
  "kernelspec": {
   "display_name": "Python 3",
   "language": "python",
   "name": "python3"
  },
  "language_info": {
   "codemirror_mode": {
    "name": "ipython",
    "version": 3
   },
   "file_extension": ".py",
   "mimetype": "text/x-python",
   "name": "python",
   "nbconvert_exporter": "python",
   "pygments_lexer": "ipython3",
   "version": "3.6.8"
  }
 },
 "nbformat": 4,
 "nbformat_minor": 2
}
