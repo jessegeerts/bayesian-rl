{
 "cells": [
  {
   "cell_type": "code",
   "execution_count": 1,
   "metadata": {},
   "outputs": [],
   "source": [
    "import numpy as np\n",
    "import matplotlib.pyplot as plt\n",
    "from agent import KTDV\n",
    "import pandas as pd\n",
    "from environment import SimpleMDP\n",
    "from tqdm import tqdm_notebook as tqdm\n",
    "%matplotlib notebook"
   ]
  },
  {
   "cell_type": "code",
   "execution_count": 2,
   "metadata": {},
   "outputs": [],
   "source": [
    "ag = KTDV(environment=SimpleMDP(nr_states=3))\n",
    "\n",
    "all_results = {}\n",
    "for ep in range(50):\n",
    "    results = ag.train_one_episode()\n",
    "    all_results[ep] = results\n",
    "\n"
   ]
  },
  {
   "cell_type": "code",
   "execution_count": null,
   "metadata": {},
   "outputs": [],
   "source": []
  },
  {
   "cell_type": "code",
   "execution_count": 3,
   "metadata": {},
   "outputs": [],
   "source": [
    "results = pd.DataFrame.from_dict({(trial, step): all_results[trial][step] \n",
    "                           for trial in all_results.keys() \n",
    "                           for step in all_results[trial].keys()},\n",
    "                       orient='index')"
   ]
  },
  {
   "cell_type": "code",
   "execution_count": 4,
   "metadata": {},
   "outputs": [],
   "source": [
    "results.index.names = ['trial', 't']"
   ]
  },
  {
   "cell_type": "code",
   "execution_count": 5,
   "metadata": {},
   "outputs": [
    {
     "data": {
      "text/html": [
       "<div>\n",
       "<style scoped>\n",
       "    .dataframe tbody tr th:only-of-type {\n",
       "        vertical-align: middle;\n",
       "    }\n",
       "\n",
       "    .dataframe tbody tr th {\n",
       "        vertical-align: top;\n",
       "    }\n",
       "\n",
       "    .dataframe thead th {\n",
       "        text-align: right;\n",
       "    }\n",
       "</style>\n",
       "<table border=\"1\" class=\"dataframe\">\n",
       "  <thead>\n",
       "    <tr style=\"text-align: right;\">\n",
       "      <th></th>\n",
       "      <th></th>\n",
       "      <th>weights</th>\n",
       "      <th>cov</th>\n",
       "      <th>K</th>\n",
       "      <th>dt</th>\n",
       "      <th>r</th>\n",
       "      <th>state</th>\n",
       "      <th>rhat</th>\n",
       "      <th>V</th>\n",
       "    </tr>\n",
       "    <tr>\n",
       "      <th>trial</th>\n",
       "      <th>t</th>\n",
       "      <th></th>\n",
       "      <th></th>\n",
       "      <th></th>\n",
       "      <th></th>\n",
       "      <th></th>\n",
       "      <th></th>\n",
       "      <th></th>\n",
       "      <th></th>\n",
       "    </tr>\n",
       "  </thead>\n",
       "  <tbody>\n",
       "    <tr>\n",
       "      <th rowspan=\"4\" valign=\"top\">0</th>\n",
       "      <th>0</th>\n",
       "      <td>[0.0, 0.0, 0.0]</td>\n",
       "      <td>[[0.9950002475124993, 0.0, 0.0], [0.0, 1.005, ...</td>\n",
       "      <td>[0.09950002475124992, 0.0, 0.0]</td>\n",
       "      <td>0.000000</td>\n",
       "      <td>0.0</td>\n",
       "      <td>0</td>\n",
       "      <td>0.000000</td>\n",
       "      <td>0.000000</td>\n",
       "    </tr>\n",
       "    <tr>\n",
       "      <th>1</th>\n",
       "      <td>[0.0, 0.0, 0.0]</td>\n",
       "      <td>[[0.9900992525365147, 0.0, 0.0], [0.0, 1.00999...</td>\n",
       "      <td>[0.09900992525365143, 0.0, 0.0]</td>\n",
       "      <td>0.000000</td>\n",
       "      <td>0.0</td>\n",
       "      <td>0</td>\n",
       "      <td>0.000000</td>\n",
       "      <td>0.000000</td>\n",
       "    </tr>\n",
       "    <tr>\n",
       "      <th>2</th>\n",
       "      <td>[0.0, 0.0, 0.0]</td>\n",
       "      <td>[[0.6436136601604826, 0.3226633803784545, 0.0]...</td>\n",
       "      <td>[0.3532166178198736, -0.32425245979834005, 0.0]</td>\n",
       "      <td>0.000000</td>\n",
       "      <td>0.0</td>\n",
       "      <td>0</td>\n",
       "      <td>0.000000</td>\n",
       "      <td>0.000000</td>\n",
       "    </tr>\n",
       "    <tr>\n",
       "      <th>3</th>\n",
       "      <td>[0.1871819500744019, 0.4198847422510274, 0.0]</td>\n",
       "      <td>[[0.588216899403645, 0.18718195007440191, 0.0]...</td>\n",
       "      <td>[0.1871819500744019, 0.4198847422510274, 0.0]</td>\n",
       "      <td>1.000000</td>\n",
       "      <td>1.0</td>\n",
       "      <td>1</td>\n",
       "      <td>0.000000</td>\n",
       "      <td>0.000000</td>\n",
       "    </tr>\n",
       "    <tr>\n",
       "      <th>1</th>\n",
       "      <th>0</th>\n",
       "      <td>[0.18607810331942132, 0.4195364376285726, 0.0]</td>\n",
       "      <td>[[0.5897185890743313, 0.18607810331942135, 0.0...</td>\n",
       "      <td>[0.05897185890743312, 0.018607810331942132, 0.0]</td>\n",
       "      <td>-0.018718</td>\n",
       "      <td>0.0</td>\n",
       "      <td>0</td>\n",
       "      <td>0.018718</td>\n",
       "      <td>0.187182</td>\n",
       "    </tr>\n",
       "  </tbody>\n",
       "</table>\n",
       "</div>"
      ],
      "text/plain": [
       "                                                weights  \\\n",
       "trial t                                                   \n",
       "0     0                                 [0.0, 0.0, 0.0]   \n",
       "      1                                 [0.0, 0.0, 0.0]   \n",
       "      2                                 [0.0, 0.0, 0.0]   \n",
       "      3   [0.1871819500744019, 0.4198847422510274, 0.0]   \n",
       "1     0  [0.18607810331942132, 0.4195364376285726, 0.0]   \n",
       "\n",
       "                                                       cov  \\\n",
       "trial t                                                      \n",
       "0     0  [[0.9950002475124993, 0.0, 0.0], [0.0, 1.005, ...   \n",
       "      1  [[0.9900992525365147, 0.0, 0.0], [0.0, 1.00999...   \n",
       "      2  [[0.6436136601604826, 0.3226633803784545, 0.0]...   \n",
       "      3  [[0.588216899403645, 0.18718195007440191, 0.0]...   \n",
       "1     0  [[0.5897185890743313, 0.18607810331942135, 0.0...   \n",
       "\n",
       "                                                        K        dt    r  \\\n",
       "trial t                                                                    \n",
       "0     0                   [0.09950002475124992, 0.0, 0.0]  0.000000  0.0   \n",
       "      1                   [0.09900992525365143, 0.0, 0.0]  0.000000  0.0   \n",
       "      2   [0.3532166178198736, -0.32425245979834005, 0.0]  0.000000  0.0   \n",
       "      3     [0.1871819500744019, 0.4198847422510274, 0.0]  1.000000  1.0   \n",
       "1     0  [0.05897185890743312, 0.018607810331942132, 0.0] -0.018718  0.0   \n",
       "\n",
       "         state      rhat         V  \n",
       "trial t                             \n",
       "0     0      0  0.000000  0.000000  \n",
       "      1      0  0.000000  0.000000  \n",
       "      2      0  0.000000  0.000000  \n",
       "      3      1  0.000000  0.000000  \n",
       "1     0      0  0.018718  0.187182  "
      ]
     },
     "execution_count": 5,
     "metadata": {},
     "output_type": "execute_result"
    }
   ],
   "source": [
    "results.head()"
   ]
  },
  {
   "cell_type": "code",
   "execution_count": 6,
   "metadata": {},
   "outputs": [
    {
     "data": {
      "text/plain": [
       "Text(0.5, 1.0, 'Predicted reward for transition 2-3 (R hat)')"
      ]
     },
     "execution_count": 6,
     "metadata": {},
     "output_type": "execute_result"
    },
    {
     "data": {
      "image/png": "[encoded data removed]",
      "text/plain": [
       "<Figure size 432x288 with 1 Axes>"
      ]
     },
     "metadata": {
      "needs_background": "light"
     },
     "output_type": "display_data"
    }
   ],
   "source": [
    "plt.figure()\n",
    "plt.plot(np.array(results.xs(1,level='t').rhat))\n",
    "plt.title('Predicted reward for transition 2-3 (R hat)')"
   ]
  },
  {
   "cell_type": "code",
   "execution_count": 7,
   "metadata": {},
   "outputs": [
    {
     "data": {
      "text/plain": [
       "Text(0.5, 1.0, 'Predicted value (V)')"
      ]
     },
     "execution_count": 7,
     "metadata": {},
     "output_type": "execute_result"
    },
    {
     "data": {
      "image/png": "[encoded data removed]",
      "text/plain": [
       "<Figure size 432x288 with 1 Axes>"
      ]
     },
     "metadata": {
      "needs_background": "light"
     },
     "output_type": "display_data"
    }
   ],
   "source": [
    "plt.figure()\n",
    "plt.plot(np.array(results.xs(1,level='t').V))\n",
    "plt.plot(np.array(results.xs(0,level='t').V))\n",
    "\n",
    "plt.legend(['State 2', 'State 1'])\n",
    "\n",
    "plt.title('Predicted value (V)')"
   ]
  },
  {
   "cell_type": "code",
   "execution_count": 8,
   "metadata": {
    "scrolled": true
   },
   "outputs": [
    {
     "data": {
      "text/plain": [
       "<matplotlib.colorbar.Colorbar at 0x7f2dd7399b38>"
      ]
     },
     "execution_count": 8,
     "metadata": {},
     "output_type": "execute_result"
    },
    {
     "data": {
      "image/png": "[encoded data removed]",
      "text/plain": [
       "<Figure size 432x288 with 2 Axes>"
      ]
     },
     "metadata": {
      "needs_background": "light"
     },
     "output_type": "display_data"
    }
   ],
   "source": [
    "plt.figure()\n",
    "plt.imshow(results.iloc[-1]['cov']);plt.colorbar()"
   ]
  },
  {
   "cell_type": "code",
   "execution_count": 9,
   "metadata": {},
   "outputs": [
    {
     "data": {
      "text/plain": [
       "array([0.90477661, 0.97092316, 0.        ])"
      ]
     },
     "execution_count": 9,
     "metadata": {},
     "output_type": "execute_result"
    }
   ],
   "source": [
    "results.iloc[-1]['weights']"
   ]
  },
  {
   "cell_type": "code",
   "execution_count": 10,
   "metadata": {},
   "outputs": [
    {
     "data": {
      "text/plain": [
       "array([0.07171192, 0.1263309 , 0.        ])"
      ]
     },
     "execution_count": 10,
     "metadata": {},
     "output_type": "execute_result"
    }
   ],
   "source": [
    "results.iloc[-1].K"
   ]
  },
  {
   "cell_type": "code",
   "execution_count": 11,
   "metadata": {},
   "outputs": [],
   "source": [
    "all_covs = np.stack(results['cov'].values)"
   ]
  },
  {
   "cell_type": "code",
   "execution_count": 12,
   "metadata": {},
   "outputs": [
    {
     "data": {
      "text/plain": [
       "Text(0.5, 1.0, 'Uncertainty (variance)')"
      ]
     },
     "execution_count": 12,
     "metadata": {},
     "output_type": "execute_result"
    },
    {
     "data": {
      "image/png": "[encoded data removed]",
      "text/plain": [
       "<Figure size 432x288 with 1 Axes>"
      ]
     },
     "metadata": {
      "needs_background": "light"
     },
     "output_type": "display_data"
    }
   ],
   "source": [
    "plt.figure()\n",
    "plt.plot(all_covs[:, 1, 1])\n",
    "plt.plot(all_covs[:, 0, 0])\n",
    "plt.legend(['State 2', 'State 1'])\n",
    "\n",
    "plt.title('Uncertainty (variance)')"
   ]
  },
  {
   "cell_type": "code",
   "execution_count": null,
   "metadata": {},
   "outputs": [],
   "source": []
  },
  {
   "cell_type": "markdown",
   "metadata": {},
   "source": [
    "## Now try a 2D GridWorld"
   ]
  },
  {
   "cell_type": "code",
   "execution_count": 13,
   "metadata": {},
   "outputs": [],
   "source": [
    "from environment import GridWorld\n",
    "from matplotlib import pyplot as plt, patches as patches\n",
    "from mpl_toolkits.axes_grid1 import make_axes_locatable\n",
    "ag2 = KTDV(environment=GridWorld('./mdps/10x10.mdp'))"
   ]
  },
  {
   "cell_type": "code",
   "execution_count": 14,
   "metadata": {},
   "outputs": [
    {
     "data": {
      "text/plain": [
       "array([0., 0., 0., 0., 0., 0., 0., 0., 0., 0., 0., 0., 0., 0., 0., 0., 0.,\n",
       "       0., 0., 0., 0., 0., 1., 0., 0., 0., 0., 0., 0., 0., 0., 0., 0., 0.,\n",
       "       0., 0., 0., 0., 0., 0., 0., 0., 0., 0., 0., 0., 0., 0., 0., 0., 0.,\n",
       "       0., 0., 0., 0., 0., 0., 0., 0., 0., 0., 0., 0., 0., 0., 0., 0., 0.,\n",
       "       0., 0., 0., 0., 0., 0., 0., 0., 0., 0., 0., 0., 0., 0., 0., 0., 0.,\n",
       "       0., 0., 0., 0., 0., 0., 0., 0., 0., 0., 0., 0., 0., 0., 0., 0., 0.,\n",
       "       0., 0., 0., 0., 0., 0., 0., 0., 0., 0., 0., 0., 0., 0., 0., 0., 0.,\n",
       "       0., 0., 0., 0., 0., 0., 0., 0., 0., 0., 0., 0., 0., 0., 0., 0., 0.,\n",
       "       0., 0., 0., 0., 0., 0., 0., 0.])"
      ]
     },
     "execution_count": 14,
     "metadata": {},
     "output_type": "execute_result"
    }
   ],
   "source": [
    "ag2.env.reward_func"
   ]
  },
  {
   "cell_type": "code",
   "execution_count": 15,
   "metadata": {},
   "outputs": [],
   "source": [
    "def plot_maze(ax):\n",
    "    for idx in range(ag2.env.num_cols * ag2.env.num_rows):\n",
    "        x, y = ag2.env.get_state_position(idx)\n",
    "        if ag2.env.matrix_MDP[x][y] == -1:\n",
    "            plt.gca().add_patch(\n",
    "                patches.Rectangle(\n",
    "                    (y, ag2.env.num_rows - x - 1),  # (x,y)\n",
    "                    1.0,  # width\n",
    "                    1.0,  # height\n",
    "                    facecolor=\"gray\"\n",
    "                )\n",
    "            )\n",
    "        else:\n",
    "            pass\n",
    "\n",
    "    for i in range(ag2.env.num_cols):\n",
    "        plt.axvline(i, color='k', linestyle=':')\n",
    "    plt.axvline(ag2.env.num_rows, color='k', linestyle=':')\n",
    "\n",
    "    for j in range(ag2.env.num_rows):\n",
    "        plt.axhline(j, color='k', linestyle=':')\n",
    "    plt.axhline(ag2.env.num_rows, color='k', linestyle=':')\n",
    "\n",
    "    plt.text(ag2.env.goal_x + .1, ag2.env.goal_y + .1, 'G', fontsize=20, color='green')\n",
    "    plt.text(ag2.env.start_x + .1, ag2.env.start_y + .1, 'S', fontsize=20, color='black')\n",
    "\n",
    "\n",
    "    plt.xlim([0,12])\n",
    "    plt.ylim([0,12])\n",
    "    plt.box(False)\n",
    "\n",
    "    aspect_ratio = np.diff(ax.get_xlim())[0] / np.diff(ax.get_ylim())[0]\n",
    "    ax.set_aspect(aspect_ratio)\n",
    "    \n"
   ]
  },
  {
   "cell_type": "code",
   "execution_count": 16,
   "metadata": {},
   "outputs": [
    {
     "data": {
      "image/png": "[encoded data removed]",
      "text/plain": [
       "<Figure size 432x288 with 1 Axes>"
      ]
     },
     "metadata": {
      "needs_background": "light"
     },
     "output_type": "display_data"
    }
   ],
   "source": [
    "fig, ax = plt.subplots()\n",
    "plot_maze(ax)"
   ]
  },
  {
   "cell_type": "code",
   "execution_count": 17,
   "metadata": {},
   "outputs": [
    {
     "data": {
      "application/vnd.jupyter.widget-view+json": {
       "model_id": "a365fcea8cef43b69831298bfd61516d",
       "version_major": 2,
       "version_minor": 0
      },
      "text/plain": [
       "HBox(children=(IntProgress(value=0, max=50), HTML(value='')))"
      ]
     },
     "metadata": {},
     "output_type": "display_data"
    },
    {
     "name": "stdout",
     "output_type": "stream",
     "text": [
      "\n"
     ]
    }
   ],
   "source": [
    "all_results = {}\n",
    "for ep in tqdm(range(50)):\n",
    "    results = ag2.train_one_episode(random_policy=True)\n",
    "    all_results[ep] = results\n"
   ]
  },
  {
   "cell_type": "code",
   "execution_count": 18,
   "metadata": {},
   "outputs": [],
   "source": [
    "results = pd.DataFrame.from_dict({(trial, step): all_results[trial][step] \n",
    "                           for trial in all_results.keys() \n",
    "                           for step in all_results[trial].keys()},\n",
    "                       orient='index')\n",
    "\n",
    "results.index.names = ['trial', 't']"
   ]
  },
  {
   "cell_type": "code",
   "execution_count": 19,
   "metadata": {},
   "outputs": [
    {
     "data": {
      "text/html": [
       "<div>\n",
       "<style scoped>\n",
       "    .dataframe tbody tr th:only-of-type {\n",
       "        vertical-align: middle;\n",
       "    }\n",
       "\n",
       "    .dataframe tbody tr th {\n",
       "        vertical-align: top;\n",
       "    }\n",
       "\n",
       "    .dataframe thead th {\n",
       "        text-align: right;\n",
       "    }\n",
       "</style>\n",
       "<table border=\"1\" class=\"dataframe\">\n",
       "  <thead>\n",
       "    <tr style=\"text-align: right;\">\n",
       "      <th></th>\n",
       "      <th></th>\n",
       "      <th>weights</th>\n",
       "      <th>cov</th>\n",
       "      <th>K</th>\n",
       "      <th>dt</th>\n",
       "      <th>r</th>\n",
       "      <th>state</th>\n",
       "      <th>rhat</th>\n",
       "      <th>V</th>\n",
       "    </tr>\n",
       "    <tr>\n",
       "      <th>trial</th>\n",
       "      <th>t</th>\n",
       "      <th></th>\n",
       "      <th></th>\n",
       "      <th></th>\n",
       "      <th></th>\n",
       "      <th></th>\n",
       "      <th></th>\n",
       "      <th></th>\n",
       "      <th></th>\n",
       "    </tr>\n",
       "  </thead>\n",
       "  <tbody>\n",
       "    <tr>\n",
       "      <th rowspan=\"5\" valign=\"top\">49</th>\n",
       "      <th>995</th>\n",
       "      <td>[0.0, 0.0, 0.0, 0.0, 0.0, 0.0, 0.0, 0.0, 0.0, ...</td>\n",
       "      <td>[[133.2499999999513, 0.0, 0.0, 0.0, 0.0, 0.0, ...</td>\n",
       "      <td>[0.0, 0.0, 0.0, 0.0, 0.0, 0.0, 0.0, 0.0, 0.0, ...</td>\n",
       "      <td>-0.004740</td>\n",
       "      <td>0.0</td>\n",
       "      <td>98</td>\n",
       "      <td>0.004740</td>\n",
       "      <td>0.045299</td>\n",
       "    </tr>\n",
       "    <tr>\n",
       "      <th>996</th>\n",
       "      <td>[0.0, 0.0, 0.0, 0.0, 0.0, 0.0, 0.0, 0.0, 0.0, ...</td>\n",
       "      <td>[[133.2549999999513, 0.0, 0.0, 0.0, 0.0, 0.0, ...</td>\n",
       "      <td>[0.0, 0.0, 0.0, 0.0, 0.0, 0.0, 0.0, 0.0, 0.0, ...</td>\n",
       "      <td>-0.005152</td>\n",
       "      <td>0.0</td>\n",
       "      <td>99</td>\n",
       "      <td>0.005152</td>\n",
       "      <td>0.046254</td>\n",
       "    </tr>\n",
       "    <tr>\n",
       "      <th>997</th>\n",
       "      <td>[0.0, 0.0, 0.0, 0.0, 0.0, 0.0, 0.0, 0.0, 0.0, ...</td>\n",
       "      <td>[[133.2599999999513, 0.0, 0.0, 0.0, 0.0, 0.0, ...</td>\n",
       "      <td>[0.0, 0.0, 0.0, 0.0, 0.0, 0.0, 0.0, 0.0, 0.0, ...</td>\n",
       "      <td>-0.006566</td>\n",
       "      <td>0.0</td>\n",
       "      <td>87</td>\n",
       "      <td>0.006566</td>\n",
       "      <td>0.047213</td>\n",
       "    </tr>\n",
       "    <tr>\n",
       "      <th>998</th>\n",
       "      <td>[0.0, 0.0, 0.0, 0.0, 0.0, 0.0, 0.0, 0.0, 0.0, ...</td>\n",
       "      <td>[[133.2649999999513, 0.0, 0.0, 0.0, 0.0, 0.0, ...</td>\n",
       "      <td>[0.0, 0.0, 0.0, 0.0, 0.0, 0.0, 0.0, 0.0, 0.0, ...</td>\n",
       "      <td>-0.006366</td>\n",
       "      <td>0.0</td>\n",
       "      <td>99</td>\n",
       "      <td>0.006366</td>\n",
       "      <td>0.045536</td>\n",
       "    </tr>\n",
       "    <tr>\n",
       "      <th>999</th>\n",
       "      <td>[0.0, 0.0, 0.0, 0.0, 0.0, 0.0, 0.0, 0.0, 0.0, ...</td>\n",
       "      <td>[[133.2699999999513, 0.0, 0.0, 0.0, 0.0, 0.0, ...</td>\n",
       "      <td>[0.0, 0.0, 0.0, 0.0, 0.0, 0.0, 0.0, 0.0, 0.0, ...</td>\n",
       "      <td>-0.005713</td>\n",
       "      <td>0.0</td>\n",
       "      <td>98</td>\n",
       "      <td>0.005713</td>\n",
       "      <td>0.044372</td>\n",
       "    </tr>\n",
       "  </tbody>\n",
       "</table>\n",
       "</div>"
      ],
      "text/plain": [
       "                                                     weights  \\\n",
       "trial t                                                        \n",
       "49    995  [0.0, 0.0, 0.0, 0.0, 0.0, 0.0, 0.0, 0.0, 0.0, ...   \n",
       "      996  [0.0, 0.0, 0.0, 0.0, 0.0, 0.0, 0.0, 0.0, 0.0, ...   \n",
       "      997  [0.0, 0.0, 0.0, 0.0, 0.0, 0.0, 0.0, 0.0, 0.0, ...   \n",
       "      998  [0.0, 0.0, 0.0, 0.0, 0.0, 0.0, 0.0, 0.0, 0.0, ...   \n",
       "      999  [0.0, 0.0, 0.0, 0.0, 0.0, 0.0, 0.0, 0.0, 0.0, ...   \n",
       "\n",
       "                                                         cov  \\\n",
       "trial t                                                        \n",
       "49    995  [[133.2499999999513, 0.0, 0.0, 0.0, 0.0, 0.0, ...   \n",
       "      996  [[133.2549999999513, 0.0, 0.0, 0.0, 0.0, 0.0, ...   \n",
       "      997  [[133.2599999999513, 0.0, 0.0, 0.0, 0.0, 0.0, ...   \n",
       "      998  [[133.2649999999513, 0.0, 0.0, 0.0, 0.0, 0.0, ...   \n",
       "      999  [[133.2699999999513, 0.0, 0.0, 0.0, 0.0, 0.0, ...   \n",
       "\n",
       "                                                           K        dt    r  \\\n",
       "trial t                                                                       \n",
       "49    995  [0.0, 0.0, 0.0, 0.0, 0.0, 0.0, 0.0, 0.0, 0.0, ... -0.004740  0.0   \n",
       "      996  [0.0, 0.0, 0.0, 0.0, 0.0, 0.0, 0.0, 0.0, 0.0, ... -0.005152  0.0   \n",
       "      997  [0.0, 0.0, 0.0, 0.0, 0.0, 0.0, 0.0, 0.0, 0.0, ... -0.006566  0.0   \n",
       "      998  [0.0, 0.0, 0.0, 0.0, 0.0, 0.0, 0.0, 0.0, 0.0, ... -0.006366  0.0   \n",
       "      999  [0.0, 0.0, 0.0, 0.0, 0.0, 0.0, 0.0, 0.0, 0.0, ... -0.005713  0.0   \n",
       "\n",
       "           state      rhat         V  \n",
       "trial t                               \n",
       "49    995     98  0.004740  0.045299  \n",
       "      996     99  0.005152  0.046254  \n",
       "      997     87  0.006566  0.047213  \n",
       "      998     99  0.006366  0.045536  \n",
       "      999     98  0.005713  0.044372  "
      ]
     },
     "execution_count": 19,
     "metadata": {},
     "output_type": "execute_result"
    }
   ],
   "source": [
    "results.tail()"
   ]
  },
  {
   "cell_type": "code",
   "execution_count": 20,
   "metadata": {},
   "outputs": [],
   "source": [
    "first_episode = results.xs(0,level='trial')"
   ]
  },
  {
   "cell_type": "code",
   "execution_count": 21,
   "metadata": {},
   "outputs": [],
   "source": [
    "locations = np.array([ag2.env.get_state_position(t) for t in first_episode.state.values])"
   ]
  },
  {
   "cell_type": "code",
   "execution_count": 22,
   "metadata": {},
   "outputs": [
    {
     "data": {
      "text/plain": [
       "Text(0.5, 1.0, 'Occupancy during first trial')"
      ]
     },
     "execution_count": 22,
     "metadata": {},
     "output_type": "execute_result"
    },
    {
     "data": {
      "image/png": "[encoded data removed]",
      "text/plain": [
       "<Figure size 432x288 with 1 Axes>"
      ]
     },
     "metadata": {
      "needs_background": "light"
     },
     "output_type": "display_data"
    }
   ],
   "source": [
    "fig, ax = plt.subplots()\n",
    "\n",
    "plot_maze(ax)\n",
    "\n",
    "plt.scatter(locations[:,0]+.5, locations[:,1]+.5, alpha=.3)\n",
    "\n",
    "plt.title('Occupancy during first trial')\n"
   ]
  },
  {
   "cell_type": "code",
   "execution_count": 23,
   "metadata": {},
   "outputs": [
    {
     "data": {
      "text/plain": [
       "Text(0.5, 1.0, 'Value function (after 50 episodes)')"
      ]
     },
     "execution_count": 23,
     "metadata": {},
     "output_type": "execute_result"
    },
    {
     "data": {
      "image/png": "[encoded data removed]",
      "text/plain": [
       "<Figure size 432x288 with 1 Axes>"
      ]
     },
     "metadata": {
      "needs_background": "light"
     },
     "output_type": "display_data"
    }
   ],
   "source": [
    "fig, ax = plt.subplots()\n",
    "plt.pcolor(np.flip(results.iloc[-1].weights.reshape(12,12)))\n",
    "\n",
    "aspect_ratio = np.diff(ax.get_xlim())[0] / np.diff(ax.get_ylim())[0]\n",
    "ax.set_aspect(aspect_ratio)\n",
    "plt.title('Value function (after 50 episodes)')"
   ]
  },
  {
   "cell_type": "code",
   "execution_count": null,
   "metadata": {},
   "outputs": [],
   "source": []
  },
  {
   "cell_type": "code",
   "execution_count": 24,
   "metadata": {},
   "outputs": [
    {
     "data": {
      "application/vnd.jupyter.widget-view+json": {
       "model_id": "ee29bc8b13f24651b727495df01b7836",
       "version_major": 2,
       "version_minor": 0
      },
      "text/plain": [
       "HBox(children=(IntProgress(value=0, max=50), HTML(value='')))"
      ]
     },
     "metadata": {},
     "output_type": "display_data"
    },
    {
     "name": "stdout",
     "output_type": "stream",
     "text": [
      "\n"
     ]
    }
   ],
   "source": [
    "all_results = {}\n",
    "for ep in tqdm(range(50)):\n",
    "    results = ag2.train_one_episode(random_policy=False)\n",
    "    all_results[ep] = results\n"
   ]
  },
  {
   "cell_type": "code",
   "execution_count": 25,
   "metadata": {},
   "outputs": [],
   "source": [
    "results = pd.DataFrame.from_dict({(trial, step): all_results[trial][step] \n",
    "                           for trial in all_results.keys() \n",
    "                           for step in all_results[trial].keys()},\n",
    "                       orient='index')\n",
    "\n",
    "results.index.names = ['trial', 't']"
   ]
  },
  {
   "cell_type": "code",
   "execution_count": 26,
   "metadata": {},
   "outputs": [],
   "source": [
    "last_episode = results.xs(0,level='trial')"
   ]
  },
  {
   "cell_type": "code",
   "execution_count": 29,
   "metadata": {},
   "outputs": [],
   "source": [
    "locations = np.array([ag2.env.get_state_position(t) for t in last_episode.state.values])"
   ]
  },
  {
   "cell_type": "code",
   "execution_count": 31,
   "metadata": {},
   "outputs": [
    {
     "data": {
      "text/plain": [
       "(777, 2)"
      ]
     },
     "execution_count": 31,
     "metadata": {},
     "output_type": "execute_result"
    }
   ],
   "source": [
    "locations.shape"
   ]
  },
  {
   "cell_type": "code",
   "execution_count": null,
   "metadata": {},
   "outputs": [],
   "source": []
  },
  {
   "cell_type": "code",
   "execution_count": null,
   "metadata": {},
   "outputs": [],
   "source": []
  }
 ],
 "metadata": {
  "kernelspec": {
   "display_name": "Python 3",
   "language": "python",
   "name": "python3"
  },
  "language_info": {
   "codemirror_mode": {
    "name": "ipython",
    "version": 3
   },
   "file_extension": ".py",
   "mimetype": "text/x-python",
   "name": "python",
   "nbconvert_exporter": "python",
   "pygments_lexer": "ipython3",
   "version": "3.7.2"
  }
 },
 "nbformat": 4,
 "nbformat_minor": 2
}
